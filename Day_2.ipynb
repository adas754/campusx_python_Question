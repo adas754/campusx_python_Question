{
  "nbformat": 4,
  "nbformat_minor": 0,
  "metadata": {
    "colab": {
      "provenance": []
    },
    "kernelspec": {
      "name": "python3",
      "display_name": "Python 3"
    },
    "language_info": {
      "name": "python"
    }
  },
  "cells": [
    {
      "cell_type": "markdown",
      "source": [
        "### `Problem 1`: Write a program that will give you in hand monthly salary after deduction on CTC - HRA(10%), DA(5%), PF(3%) and taxes deduction as below:\n",
        "\n",
        "> Salary(Lakhs) : Tax(%)\n",
        "\n",
        "*   Below 5 : 0%\n",
        "*   5-10 : 10%\n",
        "*   10-20 : 20%\n",
        "*   aboove 20 : 30%"
      ],
      "metadata": {
        "id": "KOz_TpAG6E_h"
      }
    },
    {
      "cell_type": "code",
      "source": [
        "def calculate_monthly_salary(ctc):\n",
        "  if ctc<5000000:\n",
        "    salary=ctc*0.82\n",
        "  elif ctc<1000000:\n",
        "    salary=ctc*0.72\n",
        "  elif ctc<2000000:\n",
        "    salary=ctc*0.62\n",
        "  else:\n",
        "    salary=ctc*.52\n",
        "  return round(salary/12,2)\n",
        "ctc=int(input(\"Enter your annual ctc :\"))\n",
        "monthly_salary=calculate_monthly_salary(ctc)\n",
        "print('your in hand monthly salary will be : ',monthly_salary)"
      ],
      "metadata": {
        "colab": {
          "base_uri": "https://localhost:8080/"
        },
        "id": "2nK6h9-YH3_W",
        "outputId": "c7c16ccc-c34c-43e9-931f-aab9ee5056cc"
      },
      "execution_count": null,
      "outputs": [
        {
          "output_type": "stream",
          "name": "stdout",
          "text": [
            "Enter your annual ctc :1200000\n",
            "your in hand monthly salary will be :  82000.0\n"
          ]
        }
      ]
    },
    {
      "cell_type": "markdown",
      "source": [
        "## Problem 2: Write a program that take a user input of three angles and will find out whether it can form a triangle or not."
      ],
      "metadata": {
        "id": "pTuhyjYaMucX"
      }
    },
    {
      "cell_type": "code",
      "source": [
        "def check_triangle(first,second,third):\n",
        "  if (first+second+third)==180 and first>0 and second>0 and third>0:\n",
        "    print('form a triangle')\n",
        "  else:\n",
        "    print(\"does not form a triangle\")\n",
        "check_triangle(60,60,60)\n",
        "check_triangle(30,180,30)"
      ],
      "metadata": {
        "colab": {
          "base_uri": "https://localhost:8080/"
        },
        "id": "ho45YyNhNg3m",
        "outputId": "9cf550bb-6356-4bfb-f1ba-af53374a1e9f"
      },
      "execution_count": null,
      "outputs": [
        {
          "output_type": "stream",
          "name": "stdout",
          "text": [
            "form a triangle\n",
            "does not form a triangle\n"
          ]
        }
      ]
    },
    {
      "cell_type": "markdown",
      "source": [
        "## Problem 3: Write a program that will take user input of cost price and selling price and determines whether its a loss or a profit."
      ],
      "metadata": {
        "id": "kfNh1f74Ug-O"
      }
    },
    {
      "cell_type": "code",
      "source": [
        "def calculate_profit_or_loss(cost_price,selling_price):\n",
        "  if selling_price>cost_price:\n",
        "    profit=selling_price-cost_price\n",
        "    return 'profit'\n",
        "  elif selling_price<cost_price:\n",
        "    loss=cost_price-selling_price\n",
        "    return 'loss'\n",
        "  else:\n",
        "    return \"no profit no loss\"\n",
        "cost_price=float(input(\"Enter the cost price :\"))\n",
        "selling_price=float(input(\"Enter the selling price :\"))\n",
        "result=calculate_profit_or_loss(cost_price,selling_price)\n",
        "print(result)"
      ],
      "metadata": {
        "colab": {
          "base_uri": "https://localhost:8080/"
        },
        "id": "MPzcODVbZ2wa",
        "outputId": "8d672f9c-7e26-4339-9800-3c951073e22c"
      },
      "execution_count": null,
      "outputs": [
        {
          "output_type": "stream",
          "name": "stdout",
          "text": [
            "Enter the cost price :14\n",
            "Enter the selling price :12\n",
            "loss\n"
          ]
        }
      ]
    },
    {
      "cell_type": "markdown",
      "source": [
        "### `Problem 4`: Write a menu-driven program - \n",
        "1. cm to ft \n",
        "2. km to miles \n",
        "3. USD to INR \n",
        "4. exit\n",
        "\n",
        "Hint\n",
        "- 1 cm = 0.032ft\n",
        "- 1km = 0.62\n",
        "- 1 USD = 80 INR"
      ],
      "metadata": {
        "id": "sYzp5en8ciya"
      }
    },
    {
      "cell_type": "code",
      "source": [
        "def cm_to_ft(cm):\n",
        "  return cm*0.032\n",
        "def km_to_miles(km):\n",
        "  return km*0.62\n",
        "def usd_to_inr(usd):\n",
        "  return usd*80\n",
        "while True:\n",
        "  print(\"Enter 1 to convert cm to ft\")\n",
        "  print(\"Enter 2 to convert km to miles\")\n",
        "  print(\"Enter 3 to convert  usd to inr \")\n",
        "  print(\"Enter 4 to exit \")\n",
        "  choice=int(input(\"Enter your choice :\"))\n",
        "  if choice==1:\n",
        "    cm=float(input(\"Enter length in cm :\"))\n",
        "    print('The length in ft is',round(cm_to_ft(cm),2))\n",
        "  elif choice==2:\n",
        "    km=float(input(\"Enter the distance in km \"))\n",
        "    print('the distance in km is',round(km_to_miles(km),2))\n",
        "  elif choice==3:\n",
        "    usd=float(input(\"Enter the amount in usd \"))\n",
        "    print('the amount in inr is :',round(usd_to_inr(usd),2))\n",
        "  elif choice==4:\n",
        "    break\n",
        "  else:\n",
        "    print('invalid choice,plz try again ') \n"
      ],
      "metadata": {
        "colab": {
          "base_uri": "https://localhost:8080/"
        },
        "id": "UixGT3Dff4Fz",
        "outputId": "452296bd-d4f5-41e0-ca00-01618c0832aa"
      },
      "execution_count": null,
      "outputs": [
        {
          "name": "stdout",
          "output_type": "stream",
          "text": [
            "Enter 1 to convert cm to ft\n",
            "Enter 2 to convert km to miles\n",
            "Enter 3 to convert  usd to inr \n",
            "Enter 4 to exit \n",
            "Enter your choice :1\n",
            "Enter length in cm :1\n",
            "The length in ft is 0.03\n",
            "Enter 1 to convert cm to ft\n",
            "Enter 2 to convert km to miles\n",
            "Enter 3 to convert  usd to inr \n",
            "Enter 4 to exit \n",
            "Enter your choice :2\n",
            "Enter the distance in km 1\n",
            "the distance in km is 0.62\n",
            "Enter 1 to convert cm to ft\n",
            "Enter 2 to convert km to miles\n",
            "Enter 3 to convert  usd to inr \n",
            "Enter 4 to exit \n",
            "Enter your choice :3\n",
            "Enter the amount in usd 1\n",
            "the amount in inr is : 80.0\n",
            "Enter 1 to convert cm to ft\n",
            "Enter 2 to convert km to miles\n",
            "Enter 3 to convert  usd to inr \n",
            "Enter 4 to exit \n",
            "Enter your choice :4\n"
          ]
        }
      ]
    },
    {
      "cell_type": "markdown",
      "source": [
        "### `Problem 5` - Exercise 12: Display Fibonacci series up to 10 terms.\n",
        "\n",
        "*Note: The Fibonacci Sequence is a series of numbers. The next number is found by adding up the two numbers before it. The first two numbers are 0 and 1. For example, 0, 1, 1, 2, 3, 5, 8, 13, 21. The next number in this series above is 13+21 = 34*"
      ],
      "metadata": {
        "id": "cCdL3sVRjrRn"
      }
    },
    {
      "cell_type": "code",
      "source": [
        "def fibonacci(n):\n",
        "  if n<=1:\n",
        "    return n\n",
        "  else:\n",
        "    return fibonacci(n-1)+fibonacci(n-2)\n",
        "for i in range(10):\n",
        "  print(fibonacci(i))"
      ],
      "metadata": {
        "colab": {
          "base_uri": "https://localhost:8080/"
        },
        "id": "Su4DPKcljh6S",
        "outputId": "4d11c539-eec9-4dfe-829f-fea73357cf7d"
      },
      "execution_count": null,
      "outputs": [
        {
          "output_type": "stream",
          "name": "stdout",
          "text": [
            "0\n",
            "1\n",
            "1\n",
            "2\n",
            "3\n",
            "5\n",
            "8\n",
            "13\n",
            "21\n",
            "34\n"
          ]
        }
      ]
    },
    {
      "cell_type": "markdown",
      "source": [
        "### `Problem 6` - Find the factorial of a given number.\n",
        "\n",
        "Write a program to use the loop to find the factorial of a given number.\n",
        "\n",
        "The factorial (symbol: `!`) means to multiply all whole numbers from the chosen number down to 1.\n",
        "\n",
        "For example: calculate the factorial of 5\n",
        "\n",
        "```bash\n",
        "5! = 5 × 4 × 3 × 2 × 1 = 120\n",
        "```\n",
        "\n",
        "Output: \n",
        "\n",
        "```bash\n",
        "120\n",
        "```"
      ],
      "metadata": {
        "id": "CrVVB0CgrRNS"
      }
    },
    {
      "cell_type": "code",
      "source": [
        "def factorial(n):\n",
        "  fact=1\n",
        "  for i in range(1,n+1):\n",
        "    fact=fact*i\n",
        "  return fact\n",
        "num=int(input(\"Enter a number :\"))\n",
        "result=factorial(num)\n",
        "print(result)"
      ],
      "metadata": {
        "id": "JB2kJyzUrus5",
        "colab": {
          "base_uri": "https://localhost:8080/"
        },
        "outputId": "1382826e-4ace-41e7-8455-840d87003732"
      },
      "execution_count": null,
      "outputs": [
        {
          "output_type": "stream",
          "name": "stdout",
          "text": [
            "Enter a number :5\n",
            "120\n"
          ]
        }
      ]
    },
    {
      "cell_type": "markdown",
      "source": [
        "### `Problem 7` - Reverse a given integer number.\n",
        "\n",
        "Example:\n",
        "\n",
        "`Input:`\n",
        "\n",
        "```bash\n",
        "76542\n",
        "```\n",
        "\n",
        "`Output:`\n",
        "\n",
        "```bash\n",
        "\n",
        "24567\n",
        "```"
      ],
      "metadata": {
        "id": "RUXKLieF5aym"
      }
    },
    {
      "cell_type": "code",
      "source": [
        "def reversed_integer(n):\n",
        "  num_str=str(n)\n",
        "  reversed_str=num_str[::-1]\n",
        "  reversed_num=int(reversed_str)\n",
        "  return reversed_num\n",
        "reversed_integer(76542)\n"
      ],
      "metadata": {
        "colab": {
          "base_uri": "https://localhost:8080/"
        },
        "id": "eDE8U8cl5Qms",
        "outputId": "c79bcb41-c907-41d2-f18c-d76e94db2592"
      },
      "execution_count": null,
      "outputs": [
        {
          "output_type": "execute_result",
          "data": {
            "text/plain": [
              "24567"
            ]
          },
          "metadata": {},
          "execution_count": 38
        }
      ]
    },
    {
      "cell_type": "markdown",
      "source": [
        "### `Problem 8`: Take a user input as integer N. Find out the sum from 1 to N. If any number if divisible by 5, then skip that number. And if the sum is greater than 300, don't need to calculate the sum further more. Print the final result. And don't use for loop to solve this problem.\n",
        "\n",
        "**Example 1:**\n",
        "\n",
        "`Input:`\n",
        "\n",
        "```bash\n",
        "30\n",
        "```\n",
        "\n",
        "`Output:`\n",
        "\n",
        "```bash\n",
        "276\n",
        "```"
      ],
      "metadata": {
        "id": "rx1GsHGA_e09"
      }
    },
    {
      "cell_type": "code",
      "source": [
        "def sum_up_to_n(n):\n",
        "  total_sum=0\n",
        "  for i in range(1,n+1):\n",
        "    if i%5==0:\n",
        "      continue\n",
        "    total_sum+=i\n",
        "    if total_sum>300:\n",
        "      total_sum-=i\n",
        "      break\n",
        "  return total_sum\n",
        "n=int(input('Enter a number :'))\n",
        "print(sum_up_to_n(n))"
      ],
      "metadata": {
        "colab": {
          "base_uri": "https://localhost:8080/"
        },
        "id": "N7In1EVM__Sp",
        "outputId": "76eb9ba0-dfc5-4d8d-b50e-7891a1cdb1c6"
      },
      "execution_count": null,
      "outputs": [
        {
          "output_type": "stream",
          "name": "stdout",
          "text": [
            "Enter a number :50\n",
            "276\n"
          ]
        }
      ]
    },
    {
      "cell_type": "markdown",
      "source": [
        "### `Problem 9`: Write a program that keeps on accepting a number from the user until the user enters Zero. Display the sum and average of all the numbers."
      ],
      "metadata": {
        "id": "v6nQEyv1GvL9"
      }
    },
    {
      "cell_type": "code",
      "source": [
        "\n",
        "\n",
        "def calculate_sum_and_average():\n",
        "  numbers=[]\n",
        "  total=0\n",
        "  count=0\n",
        "  while True:\n",
        "    num=float(input('Enter a number (enter 0 to finish):'))\n",
        "    if num==0:\n",
        "      break\n",
        "    numbers.append(num)\n",
        "    total+=num\n",
        "    count+=1\n",
        "  average=total/count if count>0 else 0\n",
        "  return total,average\n",
        "sum_result,average_result=calculate_sum_and_average()\n",
        "print(sum_result)\n",
        "print(average_result)\n",
        "\n"
      ],
      "metadata": {
        "colab": {
          "base_uri": "https://localhost:8080/"
        },
        "id": "pR4vJTZpJAcW",
        "outputId": "05e722a8-7bf1-4922-9471-3b09c3151619"
      },
      "execution_count": 3,
      "outputs": [
        {
          "output_type": "stream",
          "name": "stdout",
          "text": [
            "Enter a number (enter 0 to finish):1\n",
            "Enter a number (enter 0 to finish):2\n",
            "Enter a number (enter 0 to finish):3\n",
            "Enter a number (enter 0 to finish):4\n",
            "Enter a number (enter 0 to finish):5\n",
            "Enter a number (enter 0 to finish):0\n",
            "15.0\n",
            "3.0\n"
          ]
        }
      ]
    },
    {
      "cell_type": "markdown",
      "source": [
        "###`Problem 10`: Write a program which will find all such numbers which are divisible by 7 but are not a multiple of 5, between 2000 and 3200 (both included). The numbers obtained should be printed in a comma-separated sequence on a single line."
      ],
      "metadata": {
        "id": "M5ujZwFzLlC-"
      }
    },
    {
      "cell_type": "code",
      "source": [
        "def find_numbers():\n",
        "  numbers=[]\n",
        "  for num in range(2000,3201):\n",
        "    if num%7==0 and num%5!=0:\n",
        "      numbers.append(num)\n",
        "  return numbers\n",
        "result=find_numbers()\n",
        "print(','.join(map(str,result)))"
      ],
      "metadata": {
        "colab": {
          "base_uri": "https://localhost:8080/"
        },
        "id": "7QjxgtSvM1be",
        "outputId": "523fafa0-d0a4-48e2-fd57-42a59f5611df"
      },
      "execution_count": 6,
      "outputs": [
        {
          "output_type": "stream",
          "name": "stdout",
          "text": [
            "2002,2009,2016,2023,2037,2044,2051,2058,2072,2079,2086,2093,2107,2114,2121,2128,2142,2149,2156,2163,2177,2184,2191,2198,2212,2219,2226,2233,2247,2254,2261,2268,2282,2289,2296,2303,2317,2324,2331,2338,2352,2359,2366,2373,2387,2394,2401,2408,2422,2429,2436,2443,2457,2464,2471,2478,2492,2499,2506,2513,2527,2534,2541,2548,2562,2569,2576,2583,2597,2604,2611,2618,2632,2639,2646,2653,2667,2674,2681,2688,2702,2709,2716,2723,2737,2744,2751,2758,2772,2779,2786,2793,2807,2814,2821,2828,2842,2849,2856,2863,2877,2884,2891,2898,2912,2919,2926,2933,2947,2954,2961,2968,2982,2989,2996,3003,3017,3024,3031,3038,3052,3059,3066,3073,3087,3094,3101,3108,3122,3129,3136,3143,3157,3164,3171,3178,3192,3199\n"
          ]
        }
      ]
    },
    {
      "cell_type": "markdown",
      "source": [
        "###`Problem 10`: Write a program, which will find all such numbers between 1000 and 3000 (both included) such that each digit of the number is an even number. The numbers obtained should be printed in a space-separated sequence on a single line."
      ],
      "metadata": {
        "id": "OZBxc2etOBom"
      }
    },
    {
      "cell_type": "code",
      "source": [
        "def find_numbers():\n",
        "  numbers=[]\n",
        "  for num in range(1000,3001):\n",
        "    digits=[int(digit)for digit in str(num)]\n",
        "    all_even=all(digit %2==0 for digit in digits)\n",
        "    if all_even:\n",
        "      numbers.append(num)\n",
        "  return numbers\n",
        "result=find_numbers()\n",
        "print(result)"
      ],
      "metadata": {
        "colab": {
          "base_uri": "https://localhost:8080/"
        },
        "id": "I2DNtB-NOU9D",
        "outputId": "3cacb398-163a-4610-b263-84e5006f251d"
      },
      "execution_count": 8,
      "outputs": [
        {
          "output_type": "stream",
          "name": "stdout",
          "text": [
            "[2000, 2002, 2004, 2006, 2008, 2020, 2022, 2024, 2026, 2028, 2040, 2042, 2044, 2046, 2048, 2060, 2062, 2064, 2066, 2068, 2080, 2082, 2084, 2086, 2088, 2200, 2202, 2204, 2206, 2208, 2220, 2222, 2224, 2226, 2228, 2240, 2242, 2244, 2246, 2248, 2260, 2262, 2264, 2266, 2268, 2280, 2282, 2284, 2286, 2288, 2400, 2402, 2404, 2406, 2408, 2420, 2422, 2424, 2426, 2428, 2440, 2442, 2444, 2446, 2448, 2460, 2462, 2464, 2466, 2468, 2480, 2482, 2484, 2486, 2488, 2600, 2602, 2604, 2606, 2608, 2620, 2622, 2624, 2626, 2628, 2640, 2642, 2644, 2646, 2648, 2660, 2662, 2664, 2666, 2668, 2680, 2682, 2684, 2686, 2688, 2800, 2802, 2804, 2806, 2808, 2820, 2822, 2824, 2826, 2828, 2840, 2842, 2844, 2846, 2848, 2860, 2862, 2864, 2866, 2868, 2880, 2882, 2884, 2886, 2888]\n"
          ]
        }
      ]
    },
    {
      "cell_type": "markdown",
      "source": [
        "###`Problem 11`: A robot moves in a plane starting from the original point (0,0). The robot can move toward UP, DOWN, LEFT and RIGHT with a given steps. \n",
        "The trace of robot movement is shown as the following:\n",
        "```\n",
        "UP 5\n",
        "DOWN 3\n",
        "LEFT 3\n",
        "RIGHT 2\n",
        "!\n",
        "```\n",
        "> The numbers after the direction are steps. \n",
        "\n",
        "> `!` means robot stop there.\n",
        "\n",
        "**Please write a program to compute the distance from current position after a sequence of movement and original point.** \n",
        "\n",
        "*If the distance is a float, then just print the nearest integer.*\n",
        "\n",
        "Example:\n",
        "\n",
        "`Input`:\n",
        "```\n",
        "UP 5\n",
        "DOWN 3\n",
        "LEFT 3\n",
        "RIGHT 2\n",
        "!\n",
        "```\n",
        "`Output`:\n",
        "```\n",
        "2\n",
        "```"
      ],
      "metadata": {
        "id": "DW8n3kdEQ8cm"
      }
    },
    {
      "cell_type": "code",
      "source": [
        "import math\n",
        "def compute_distance(movements):\n",
        "  x=0\n",
        "  y=0\n",
        "  for movement in movements:\n",
        "    parts=movement.split()\n",
        "    if len(parts)!=2:\n",
        "      continue\n",
        "    direction=parts[0]\n",
        "    steps=int(parts[1])\n",
        "    if direction=='up':\n",
        "      y+=steps\n",
        "    elif direction=='down':\n",
        "      y-=steps\n",
        "    elif direction=='left':\n",
        "      x-=steps\n",
        "    elif direction=='right':\n",
        "      x+=steps\n",
        "    elif direction=='!':\n",
        "      break\n",
        "  distance=math.sqrt(x**2+y**2)\n",
        "  distance=round(distance)\n",
        "  return distance\n",
        "\n",
        "movements=[\n",
        "    'up 5',\n",
        "     'down 3',\n",
        "     'left 3',\n",
        "     'right 2',\n",
        "     '!'\n",
        "\n",
        "]\n",
        "distance=compute_distance(movements)\n",
        "print(distance)"
      ],
      "metadata": {
        "colab": {
          "base_uri": "https://localhost:8080/"
        },
        "id": "Wky_YzFaS4IV",
        "outputId": "84459fee-22ac-4989-cb57-8426c0cd7b48"
      },
      "execution_count": 16,
      "outputs": [
        {
          "output_type": "stream",
          "name": "stdout",
          "text": [
            "2\n"
          ]
        }
      ]
    },
    {
      "cell_type": "markdown",
      "source": [
        "###`Problem 12`:Write a program to print whether a given number is a prime number or not"
      ],
      "metadata": {
        "id": "kmcY5pL7befr"
      }
    },
    {
      "cell_type": "code",
      "source": [
        "def is_prime(number):\n",
        "  if number<2:\n",
        "    return False\n",
        "  for i in range(2,int(number**0.5)+1):\n",
        "    if number%i==0:\n",
        "      return False\n",
        "  return True\n",
        "number=int(input(\"Enter a number :\"))\n",
        "if is_prime(number):\n",
        "  print(number,'is a prime number')\n",
        "else:\n",
        "  print(number,'is not prime number')"
      ],
      "metadata": {
        "colab": {
          "base_uri": "https://localhost:8080/"
        },
        "id": "pBGEMZmXa9P4",
        "outputId": "e28bf7b3-5509-42a0-8837-760f84f3fa7e"
      },
      "execution_count": 19,
      "outputs": [
        {
          "output_type": "stream",
          "name": "stdout",
          "text": [
            "Enter a number :47\n",
            "47 is a prime number\n"
          ]
        }
      ]
    },
    {
      "cell_type": "markdown",
      "source": [
        "###`Problem 13`:Print all the Armstrong numbers in a given range.\n",
        "Range will be provided by the user<br>\n",
        "Armstrong number is a number that is equal to the sum of cubes of its digits. For example 0, 1, 153, 370, 371 and 407 are the Armstrong numbers."
      ],
      "metadata": {
        "id": "LSwUjWvAegWM"
      }
    },
    {
      "cell_type": "code",
      "source": [
        "def is_armstrong_number(numbers):\n",
        "  num_str=str(numbers)\n",
        "  sum_of_cubes=sum([int(digit)**len(num_str) for digit in num_str])\n",
        "  if sum_of_cubes==numbers:\n",
        "    return True\n",
        "  else:\n",
        "    return False\n",
        "start=int(input(\"Enter the starting number :\"))\n",
        "end=int(input(\"Enter the ending number :\"))\n",
        "print(\"Armstrong number within the range\",start,'to',end, \":\")\n",
        "for number in range(start,end):\n",
        "  if is_armstrong_number(number):\n",
        "    print(number)\n"
      ],
      "metadata": {
        "colab": {
          "base_uri": "https://localhost:8080/"
        },
        "id": "ku_NRCmdgi_m",
        "outputId": "fd034407-f52d-467d-d9c7-1835b57f8e69"
      },
      "execution_count": 21,
      "outputs": [
        {
          "output_type": "stream",
          "name": "stdout",
          "text": [
            "Enter the starting number :1\n",
            "Enter the ending number :200\n",
            "Armstrong number within the range 1 to 200 :\n",
            "1\n",
            "2\n",
            "3\n",
            "4\n",
            "5\n",
            "6\n",
            "7\n",
            "8\n",
            "9\n",
            "153\n"
          ]
        }
      ]
    },
    {
      "cell_type": "markdown",
      "source": [
        "###`Problem 14`:Calculate the angle between the hour hand and minute hand.\n",
        "\n",
        "Note: There can be two angles between hands; we need to print a minimum of two. Also, we need to print the floor of the final result angle. For example, if the final angle is 10.61, we need to print 10.\n",
        "\n",
        "Input:<br>\n",
        "H = 9 , M = 0<br>\n",
        "Output:<br>\n",
        "90<br>\n",
        "Explanation:<br>\n",
        "The minimum angle between hour and minute\n",
        "hand when the time is 9 is 90 degress."
      ],
      "metadata": {
        "id": "0fgThxkiieZv"
      }
    },
    {
      "cell_type": "code",
      "source": [
        "\n",
        "def calculate_angle(hour,minute):\n",
        "  hour_angle=0.5*(60*hour+minute)\n",
        "  minute_angle=6*minute\n",
        "  angle=abs(hour_angle-minute_angle)\n",
        "  angle=min(angle,360-angle)\n",
        "  return int(angle)\n",
        "hour=int(input(\"Enter the hour(0-11) :\"))\n",
        "minute=int(input(\"Enter the minute(0-59) :\"))\n",
        "angle=calculate_angle(hour,minute)\n",
        "print(angle)"
      ],
      "metadata": {
        "colab": {
          "base_uri": "https://localhost:8080/"
        },
        "id": "hKlolfNMkMhE",
        "outputId": "b8ac7e3f-23bc-448b-8400-8eedcbbaecc7"
      },
      "execution_count": 25,
      "outputs": [
        {
          "output_type": "stream",
          "name": "stdout",
          "text": [
            "Enter the hour(0-11) :9\n",
            "Enter the minute(0-59) :0\n",
            "90\n"
          ]
        }
      ]
    },
    {
      "cell_type": "markdown",
      "source": [
        "###`Problem 15`:Given two rectangles, find if the given two rectangles overlap or not. A rectangle is denoted by providing the x and y coordinates of two points: the left top corner and the right bottom corner of the rectangle. Two rectangles sharing a side are considered overlapping. (L1 and R1 are the extreme points of the first rectangle and L2 and R2 are the extreme points of the second rectangle).\n",
        "\n",
        "Note: It may be assumed that the rectangles are parallel to the coordinate axis.\n",
        "\n",
        "<img src='https://www.geeksforgeeks.org/wp-content/uploads/rectanglesOverlap.png' width='300' height='200'>"
      ],
      "metadata": {
        "id": "vdAZNZ03mfXj"
      }
    },
    {
      "cell_type": "code",
      "source": [
        "def do_rectangles_overlap(l1, r1, l2, r2):\n",
        "    # Check if one rectangle is on the left side of the other\n",
        "    if l1[0] > r2[0] or l2[0] > r1[0]:\n",
        "        return False\n",
        "\n",
        "    # Check if one rectangle is above the other\n",
        "    if l1[1] < r2[1] or l2[1] < r1[1]:\n",
        "        return False\n",
        "\n",
        "    # If the above conditions are not met, the rectangles overlap\n",
        "    return True\n",
        "\n",
        "# Input the coordinates of two rectangles from the user\n",
        "l1_x = int(input(\"Enter the x-coordinate of the top-left corner of the first rectangle: \"))\n",
        "l1_y = int(input(\"Enter the y-coordinate of the top-left corner of the first rectangle: \"))\n",
        "r1_x = int(input(\"Enter the x-coordinate of the bottom-right corner of the first rectangle: \"))\n",
        "r1_y = int(input(\"Enter the y-coordinate of the bottom-right corner of the first rectangle: \"))\n",
        "\n",
        "l2_x = int(input(\"Enter the x-coordinate of the top-left corner of the second rectangle: \"))\n",
        "l2_y = int(input(\"Enter the y-coordinate of the top-left corner of the second rectangle: \"))\n",
        "r2_x = int(input(\"Enter the x-coordinate of the bottom-right corner of the second rectangle: \"))\n",
        "r2_y = int(input(\"Enter the y-coordinate of the bottom-right corner of the second rectangle: \"))\n",
        "\n",
        "# Create points for the rectangles\n",
        "l1 = (l1_x, l1_y)\n",
        "r1 = (r1_x, r1_y)\n",
        "l2 = (l2_x, l2_y)\n",
        "r2 = (r2_x, r2_y)\n",
        "\n",
        "# Check if the rectangles overlap\n",
        "if do_rectangles_overlap(l1, r1, l2, r2):\n",
        "    print(\"The rectangles overlap.\")\n",
        "else:\n",
        "    print(\"The rectangles do not overlap.\")\n"
      ],
      "metadata": {
        "colab": {
          "base_uri": "https://localhost:8080/"
        },
        "id": "enE9yq7gmQro",
        "outputId": "b20ff154-5239-468d-b3b1-80ee4b1ef3dc"
      },
      "execution_count": 27,
      "outputs": [
        {
          "output_type": "stream",
          "name": "stdout",
          "text": [
            "Enter the x-coordinate of the top-left corner of the first rectangle: 0\n",
            "Enter the y-coordinate of the top-left corner of the first rectangle: 10\n",
            "Enter the x-coordinate of the bottom-right corner of the first rectangle: 10\n",
            "Enter the y-coordinate of the bottom-right corner of the first rectangle: 0\n",
            "Enter the x-coordinate of the top-left corner of the second rectangle: 5\n",
            "Enter the y-coordinate of the top-left corner of the second rectangle: 5\n",
            "Enter the x-coordinate of the bottom-right corner of the second rectangle: 15\n",
            "Enter the y-coordinate of the bottom-right corner of the second rectangle: 0\n",
            "The rectangles overlap.\n"
          ]
        }
      ]
    }
  ]
}