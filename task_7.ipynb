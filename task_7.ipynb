{
  "nbformat": 4,
  "nbformat_minor": 0,
  "metadata": {
    "colab": {
      "provenance": []
    },
    "kernelspec": {
      "name": "python3",
      "display_name": "Python 3"
    },
    "language_info": {
      "name": "python"
    }
  },
  "cells": [
    {
      "cell_type": "markdown",
      "source": [
        "##`Q-1:` Rectangle Class\n",
        "1. Write a Rectangle class in Python language, allowing you to build a rectangle with length and width attributes.\n",
        "\n",
        "2. Create a Perimeter() method to calculate the perimeter of the rectangle and a Area() method to calculate the area of ​​the rectangle.\n",
        "\n",
        "3. Create a method display() that display the length, width, perimeter and area of an object created using an instantiation on rectangle class."
      ],
      "metadata": {
        "id": "QIPlu6eGfxtv"
      }
    },
    {
      "cell_type": "markdown",
      "source": [
        "Eg.\n",
        "After making above classes and methods, on executing below code:-\n",
        "```\n",
        "my_rectangle = Rectangle(3 , 4)\n",
        "my_rectangle.display()\n",
        "```\n",
        "\n",
        "`Output:`\n",
        "```\n",
        "The length of rectangle is:  3\n",
        "The width of rectangle is:  4\n",
        "The perimeter of rectangle is:  14\n",
        "The area of rectangle is:  12\n",
        "```"
      ],
      "metadata": {
        "id": "Qc0Pgs6UgDbd"
      }
    },
    {
      "cell_type": "code",
      "source": [
        "class Rectangle:\n",
        "  def __init__(self,l,b):\n",
        "    self.__length=l\n",
        "    self.__width=b\n",
        "  def __perimeter(self):\n",
        "    return 2*(self.__length+self.__width)\n",
        "  def __area(self):\n",
        "    return self.__length*self.__width\n",
        "  def display(self):\n",
        "    print('length',self.__length)\n",
        "    print('width',self.__width)\n",
        "    print('perimeter',self.__perimeter())\n",
        "    print('area',self.__area())\n",
        "obj = Rectangle(3,4)\n",
        "obj.display()"
      ],
      "metadata": {
        "colab": {
          "base_uri": "https://localhost:8080/"
        },
        "id": "ffk5fLOng3No",
        "outputId": "0f53d78b-0ea4-415b-91fb-bc4277be3538"
      },
      "execution_count": null,
      "outputs": [
        {
          "output_type": "stream",
          "name": "stdout",
          "text": [
            "length 3\n",
            "width 4\n",
            "perimeter 14\n",
            "area 12\n"
          ]
        }
      ]
    },
    {
      "cell_type": "markdown",
      "source": [
        "##`Q-2: Bank Class`\n",
        "\n",
        "1. Create a Python class called `BankAccount` which represents a bank account, having as attributes: `accountNumber` (numeric type), `name` (name of the account owner as string type), `balance`.\n",
        "2. Create a constructor with parameters: `accountNumber, name, balance`.\n",
        "3. Create a `Deposit()` method which manages the deposit actions.\n",
        "4. Create a `Withdrawal()` method  which manages withdrawals actions.\n",
        "5. Create an `bankFees()` method to apply the bank fees with a percentage of 5% of the balance account.\n",
        "6. Create a `display()` method to display account details.\n",
        "Give the complete code for the  BankAccount class."
      ],
      "metadata": {
        "id": "BxpjeDFM-xTs"
      }
    },
    {
      "cell_type": "markdown",
      "source": [
        "Eg.\n",
        "After making above classes and methods, on executing below code:-\n",
        "```\n",
        "newAccount = BankAccount(2178514584, \"Mandy\" , 2800)\n",
        "\n",
        "newAccount.Withdrawal(700)\n",
        "\n",
        "newAccount.Deposit(1000)\n",
        "\n",
        "newAccount.display()\n",
        "```\n",
        "\n",
        "`Output:`\n",
        "```\n",
        "Account Number :  2178514584\n",
        "Account Name :  Mandy\n",
        "Account Balance :  3100 ₹\n",
        "```"
      ],
      "metadata": {
        "id": "J5fLvtY--yxr"
      }
    },
    {
      "cell_type": "code",
      "source": [
        "class Bank:\n",
        "  def __init__(self,name,acc_no,balance):\n",
        "    self.__name=name\n",
        "    self.__acc_no=acc_no\n",
        "    self.__balance=balance\n",
        "  def display(self):\n",
        "    print('Account number :',self.__acc_no)\n",
        "    print('Account Name :',self.__name)\n",
        "    print('Account balance :',self.__balance,'₹')\n",
        "  def deposit(self,amount):\n",
        "    self.__balance=self.__balance+amount\n",
        "  def withdraw(self,amount):\n",
        "    if amount>self.__balance:\n",
        "      print(\"Insufficient funds\")\n",
        "    else:\n",
        "      self.__balance=self.__balance-amount\n",
        "      reduction=self.__bankFees()\n",
        "      self.__balance=self.__balance-reduction\n",
        "  def __bankFees(self):\n",
        "    return 0.05*self.__balance\n",
        "cust=Bank('nitish',100000,500)\n",
        "cust.deposit(500)\n",
        "cust.withdraw(100)\n",
        "cust.display()"
      ],
      "metadata": {
        "id": "LWPiZF54kWKI",
        "colab": {
          "base_uri": "https://localhost:8080/"
        },
        "outputId": "ac7bf0c1-30d0-4773-e444-ca69b1dfa8e6"
      },
      "execution_count": 3,
      "outputs": [
        {
          "output_type": "stream",
          "name": "stdout",
          "text": [
            "Account number : 100000\n",
            "Account Name : nitish\n",
            "Account balance : 855.0 ₹\n"
          ]
        }
      ]
    },
    {
      "cell_type": "markdown",
      "source": [
        "##`Q-3:Computation class`\n",
        "\n",
        "1. Create a `Computation` class with a default constructor (without parameters) allowing to perform various calculations on integers numbers.\n",
        "2. Create a method called `Factorial()` which allows to calculate the factorial of an integer n. Integer n as parameter for this method\n",
        "\n",
        "3. Create a method called `naturalSum()` allowing to calculate the sum of the first n integers 1 + 2 + 3 + .. + n. Integer n as parameter for this method.\n",
        "\n",
        "4. Create a method called `testPrime()` in  the Calculation class to test the primality of a given integer n, n is Prime or Not? Integer n as parameter for this method.\n",
        "\n",
        "5. Create  a method called `testPrims()` allowing to test if two numbers are prime between them. Two integers are prime to one another if they have only `1` as their common divisor. Eg. 4 and 9 are prime to each other.\n",
        "\n",
        "5. Create a `tableMult()` method which creates and displays the multiplication table of a given integer. Then create an `allTablesMult()` method to display all the integer multiplication tables 1, 2, 3, ..., 9.\n",
        "\n",
        "6. Create a static `listDiv()` method that gets all the divisors of a given integer on new list called  Ldiv. Create another `listDivPrim()` method that gets all the prime divisors of a given integer."
      ],
      "metadata": {
        "id": "IKOT4TxKNIdD"
      }
    },
    {
      "cell_type": "code",
      "source": [
        "class computation:\n",
        "  def __init__(self):\n",
        "    pass\n",
        "  def factorial(self,n):\n",
        "    j=1\n",
        "    for i in range(1,n+1):\n",
        "      j=j*i\n",
        "    return j\n",
        "  def naturalsum(self,n):\n",
        "    j=1\n",
        "    for i in range(1,n+1):\n",
        "      j=j+i\n",
        "    return j\n",
        "  def testPrime(self,n):\n",
        "    j=0\n",
        "    for i in range(1,n+1):\n",
        "      if(n%i==0):\n",
        "        j=j+1\n",
        "    if(j==2):\n",
        "      return True\n",
        "    else:\n",
        "      return False\n",
        "  def testPrims(self,n,m):\n",
        "    commonDiv=0\n",
        "    for i in range(1,n+1):\n",
        "      if(n%i==0 and m%i==0):\n",
        "        commonDiv=commonDiv+1\n",
        "    if commonDiv==1:\n",
        "      print(\"The number \",n,'and',m,'are co-primes')\n",
        "    else:\n",
        "      print(\"The number \",n,'and',m,\"are not co-primes\")\n",
        "  def tableMult(self,k):\n",
        "    for i in range(1,10):\n",
        "      print(i,'x',k,'=',i*k)\n",
        "  def allTables(self):\n",
        "    for k in range(1,10):\n",
        "      print('\\n The multiplication table of :',k,'is :')\n",
        "      for i in range(1,10):\n",
        "        print(i,'x',k,'=',i*k)\n",
        "  def listDivisor(self,n):\n",
        "    lDiv=[]\n",
        "    for i in range(1,n+1):\n",
        "      if(n%i==0):\n",
        "        lDiv.append(i)\n",
        "    return lDiv\n",
        "  def listPrimeDivisor(self,n):\n",
        "    lDiv=[]\n",
        "    for i in range(1,n+1):\n",
        "      if(n%i==0 and self.testPrime(i)):\n",
        "        lDiv.append(i)\n",
        "    return lDiv\n",
        "comput=computation()\n",
        "comput.testPrims(13,7)\n",
        "print(\"List of divisor of 18 \",comput.listDivisor(18))\n",
        "print(\"List of prime divisor of 18 \",comput.listPrimeDivisor(18))\n",
        "comput.allTables()"
      ],
      "metadata": {
        "colab": {
          "base_uri": "https://localhost:8080/"
        },
        "id": "6RoePJMoMu2H",
        "outputId": "fd51a75d-cb4d-4a5e-e155-7cf7fa804407"
      },
      "execution_count": 5,
      "outputs": [
        {
          "output_type": "stream",
          "name": "stdout",
          "text": [
            "The number  13 and 7 are co-primes\n",
            "List of divisor of 18  [1, 2, 3, 6, 9, 18]\n",
            "List of prime divisor of 18  [2, 3]\n",
            "\n",
            " The multiplication table of : 1 is :\n",
            "1 x 1 = 1\n",
            "2 x 1 = 2\n",
            "3 x 1 = 3\n",
            "4 x 1 = 4\n",
            "5 x 1 = 5\n",
            "6 x 1 = 6\n",
            "7 x 1 = 7\n",
            "8 x 1 = 8\n",
            "9 x 1 = 9\n",
            "\n",
            " The multiplication table of : 2 is :\n",
            "1 x 2 = 2\n",
            "2 x 2 = 4\n",
            "3 x 2 = 6\n",
            "4 x 2 = 8\n",
            "5 x 2 = 10\n",
            "6 x 2 = 12\n",
            "7 x 2 = 14\n",
            "8 x 2 = 16\n",
            "9 x 2 = 18\n",
            "\n",
            " The multiplication table of : 3 is :\n",
            "1 x 3 = 3\n",
            "2 x 3 = 6\n",
            "3 x 3 = 9\n",
            "4 x 3 = 12\n",
            "5 x 3 = 15\n",
            "6 x 3 = 18\n",
            "7 x 3 = 21\n",
            "8 x 3 = 24\n",
            "9 x 3 = 27\n",
            "\n",
            " The multiplication table of : 4 is :\n",
            "1 x 4 = 4\n",
            "2 x 4 = 8\n",
            "3 x 4 = 12\n",
            "4 x 4 = 16\n",
            "5 x 4 = 20\n",
            "6 x 4 = 24\n",
            "7 x 4 = 28\n",
            "8 x 4 = 32\n",
            "9 x 4 = 36\n",
            "\n",
            " The multiplication table of : 5 is :\n",
            "1 x 5 = 5\n",
            "2 x 5 = 10\n",
            "3 x 5 = 15\n",
            "4 x 5 = 20\n",
            "5 x 5 = 25\n",
            "6 x 5 = 30\n",
            "7 x 5 = 35\n",
            "8 x 5 = 40\n",
            "9 x 5 = 45\n",
            "\n",
            " The multiplication table of : 6 is :\n",
            "1 x 6 = 6\n",
            "2 x 6 = 12\n",
            "3 x 6 = 18\n",
            "4 x 6 = 24\n",
            "5 x 6 = 30\n",
            "6 x 6 = 36\n",
            "7 x 6 = 42\n",
            "8 x 6 = 48\n",
            "9 x 6 = 54\n",
            "\n",
            " The multiplication table of : 7 is :\n",
            "1 x 7 = 7\n",
            "2 x 7 = 14\n",
            "3 x 7 = 21\n",
            "4 x 7 = 28\n",
            "5 x 7 = 35\n",
            "6 x 7 = 42\n",
            "7 x 7 = 49\n",
            "8 x 7 = 56\n",
            "9 x 7 = 63\n",
            "\n",
            " The multiplication table of : 8 is :\n",
            "1 x 8 = 8\n",
            "2 x 8 = 16\n",
            "3 x 8 = 24\n",
            "4 x 8 = 32\n",
            "5 x 8 = 40\n",
            "6 x 8 = 48\n",
            "7 x 8 = 56\n",
            "8 x 8 = 64\n",
            "9 x 8 = 72\n",
            "\n",
            " The multiplication table of : 9 is :\n",
            "1 x 9 = 9\n",
            "2 x 9 = 18\n",
            "3 x 9 = 27\n",
            "4 x 9 = 36\n",
            "5 x 9 = 45\n",
            "6 x 9 = 54\n",
            "7 x 9 = 63\n",
            "8 x 9 = 72\n",
            "9 x 9 = 81\n"
          ]
        }
      ]
    },
    {
      "cell_type": "markdown",
      "source": [
        "##`Q-4`: Build flashcard using class in Python.\n",
        "\n",
        "Build a flashcard using class in python. A flashcard is a card having information on both sides, which can be used as an aid in memoization. Flashcards usually have a question on one side and an answer on the other.\n",
        "\n",
        "**Example 1:**\n",
        "\n",
        "Approach:\n",
        "\n",
        "- Create a class named FlashCard.\n",
        "- Initialize dictionary fruits using __init__() method. Here you have to define fruit name as key and it's color as value. E.g., {\"Banana\": \"yellow\", \"Strawberries\": \"pink\"}\n",
        "- Now randomly choose a pair from fruits by using _random_ module and store the key in variable _fruit_ and _value_ in variable color.\n",
        "- Now prompt the user to answer the color of the randomly chosen fruit.\n",
        "- If correct print correct else print wrong.\n",
        "\n",
        "Output:\n",
        "```bash\n",
        "welcome to fruit quiz\n",
        "What is the color of Strawberries\n",
        "pink\n",
        "Correct answer\n",
        "Enter 0, if you want to play again: 0\n",
        "What is the color of watermelon\n",
        "green\n",
        "Correct answer\n",
        "Enter 0, if you want to play again: 1\n",
        "```"
      ],
      "metadata": {
        "id": "2cX0BNfqY0kS"
      }
    },
    {
      "cell_type": "code",
      "source": [
        "import random\n",
        "class FlashCard:\n",
        "  def __init__(self):\n",
        "    self.__fruits={\n",
        "        'apple':'red',\n",
        "        'banana':'yellow',\n",
        "        'watermelon':'green',\n",
        "        'strawberry':'pink',\n",
        "        'grave':'green'\n",
        "\n",
        "  }\n",
        "  def quiz(self):\n",
        "    while True:\n",
        "      fruit,color=random.choices(list(self.__fruits.items()))[0]\n",
        "      print('what is color of {}'.format(fruit))\n",
        "      user_answer=input()\n",
        "      if user_answer.lower()==color:\n",
        "        print(\"correct\")\n",
        "      else:\n",
        "        print(\"Not correct\")\n",
        "      option=int(input(\"Enter 0 to play again 1 to exit \"))\n",
        "      if option:\n",
        "        break\n",
        "print(\"Welcome to fruit quiz\")\n",
        "fc=FlashCard()\n",
        "fc.quiz()\n"
      ],
      "metadata": {
        "colab": {
          "base_uri": "https://localhost:8080/"
        },
        "id": "Fv-dB1mkYcbR",
        "outputId": "aaf503d4-3ea8-48bf-fe45-abe0cf61c661"
      },
      "execution_count": 7,
      "outputs": [
        {
          "name": "stdout",
          "output_type": "stream",
          "text": [
            "Welcome to fruit quiz\n",
            "what is color of strawberry\n",
            "pink\n",
            "correct\n",
            "Enter 0 to play again 1 to exit 0\n",
            "what is color of strawberry\n",
            "pink\n",
            "correct\n",
            "Enter 0 to play again 1 to exit 1\n"
          ]
        }
      ]
    },
    {
      "cell_type": "markdown",
      "source": [
        "## `Q-5:` Problem 5 based on OOP Python.\n",
        "\n",
        "TechWorld, a technology training center, wants to allocate courses for instructors. An instructor is identified by name, technology skills, experience and average feedback. An instructor is allocated a course, if he/she satisfies the below two conditions:\n",
        "- eligibility criteria:\n",
        "    - if experience is more than 3 years, average feedback should be 4.5 or more\n",
        "    - if experience is 3 years or less, average feedback should be 4 or more\n",
        "- he/she should posses the technology skill for the course\n",
        "\n",
        "Identify the class name and attributes to represent instructors. Write a Python program to implement the class chosen with its attributes and methods.\n",
        "\n",
        "**Note:**\n",
        "- Consider all instance variables to be private and methods to be public.\n",
        "- An instructor may have multiple technology skills, so consider instance variable, technology_skill to be a list.\n",
        "- *check_eligibility()*: Return true if eligibility criteria is satisfied by the instructor. Else, return false\n",
        "- *allocate_course(technology)*: Return true if the course which requires the given technology can be allocated to the instructor. Else, return false.\n",
        "\n",
        "Represent a few objects of the class, initialize instance variables using setter methods, invoke\n",
        "appropriate methods and test your program."
      ],
      "metadata": {
        "id": "fJ1iuTYghlF4"
      }
    },
    {
      "cell_type": "code",
      "source": [
        "class Instructor:\n",
        "  def __init__(self,name,technology,experience,feedback):\n",
        "    self.__name=name\n",
        "    self.__technology=technology\n",
        "    self.__experience=experience\n",
        "    self.__feedback=feedback\n",
        "  def check_eligibility(self):\n",
        "    if self.__experience>3 and self.__feedback>=4.5:\n",
        "      return True\n",
        "    elif self.__experience<=3 and self.__feedback>=4:\n",
        "      return True\n",
        "    else:\n",
        "      return False\n",
        "  def allocate_course(self,tech):\n",
        "    is_eligible=self.check_eligibility()\n",
        "    if is_eligible:\n",
        "      if tech in self.__technology:\n",
        "        return \"known\"\n",
        "      else:\n",
        "        return \"unknown\"\n",
        "    else:\n",
        "      return \"not well known\"\n",
        "ins=Instructor('nitish',['ds','wb'],5,4.9)\n",
        "ins.allocate_course('android dev')"
      ],
      "metadata": {
        "colab": {
          "base_uri": "https://localhost:8080/",
          "height": 36
        },
        "id": "uNYiNFl3hr64",
        "outputId": "65000853-1042-48c3-cef7-e98d0ceba01b"
      },
      "execution_count": 14,
      "outputs": [
        {
          "output_type": "execute_result",
          "data": {
            "text/plain": [
              "'unknown'"
            ],
            "application/vnd.google.colaboratory.intrinsic+json": {
              "type": "string"
            }
          },
          "metadata": {},
          "execution_count": 14
        }
      ]
    },
    {
      "cell_type": "code",
      "source": [],
      "metadata": {
        "id": "hUmV-_poxZc8"
      },
      "execution_count": null,
      "outputs": []
    }
  ]
}