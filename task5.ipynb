{
  "nbformat": 4,
  "nbformat_minor": 0,
  "metadata": {
    "colab": {
      "provenance": []
    },
    "kernelspec": {
      "name": "python3",
      "display_name": "Python 3"
    },
    "language_info": {
      "name": "python"
    }
  },
  "cells": [
    {
      "cell_type": "markdown",
      "source": [
        "###`Q1:` Join Tuples if similar initial element\n",
        "While working with Python tuples, we can have a problem in which we need to perform concatenation of records from the similarity of initial element. This problem can have applications in data domains such as Data Science.\n",
        "\n",
        "For eg.\n",
        "```\n",
        "Input  : test_list = [(5, 6), (5, 7), (5, 8), (6, 10), (7, 13)]\n",
        "Output : [(5, 6, 7, 8), (6, 10), (7, 13)]\n",
        "```"
      ],
      "metadata": {
        "id": "Oq02JpVRvkfO"
      }
    },
    {
      "cell_type": "code",
      "source": [
        "def join_tuples(tuples):\n",
        "  groups={}\n",
        "  result=[]\n",
        "  for tup in tuples:\n",
        "    key=tup[0]\n",
        "    if key in groups:\n",
        "      groups[key]+=tup[1:]\n",
        "    else:\n",
        "      groups[key]=list(tup[1:])\n",
        "  for key,values in groups.items():\n",
        "    result.append((key,)+tuple(values))\n",
        "  return result\n",
        "test_list=[(5,6),(5,7),(5,8),(6,10),(7,13)]\n",
        "output=join_tuples(test_list)\n",
        "print(output)"
      ],
      "metadata": {
        "colab": {
          "base_uri": "https://localhost:8080/"
        },
        "id": "5S7XFekvFYzs",
        "outputId": "0162b916-3018-4a65-db87-43b88f9a26cb"
      },
      "execution_count": null,
      "outputs": [
        {
          "output_type": "stream",
          "name": "stdout",
          "text": [
            "[(5, 6, 7, 8), (6, 10), (7, 13)]\n"
          ]
        }
      ]
    },
    {
      "cell_type": "markdown",
      "source": [
        "###`Q2:` Multiply Adjacent elements (both side) and take sum of right and lest side multiplication result.\n",
        "\n",
        "\n",
        "For eg.\n",
        "```\n",
        "The original tuple : (1, 5, 7, 8, 10)\n",
        "Resultant tuple after multiplication :\n",
        "\n",
        "(1*5, 1*5+5*7, 7*5 + 7*8, 8*7 + 8*10, 10*8) -> (5, 40, 91, 136, 80)\n",
        "\n",
        "output-(5, 40, 91, 136, 80)\n",
        "```"
      ],
      "metadata": {
        "id": "uLA_Qdd9JCxr"
      }
    },
    {
      "cell_type": "code",
      "source": [
        "def multiply_adjacent_elements(numbers):\n",
        "  result=[numbers[0]*numbers[1]]\n",
        "  for i in range(1,len(numbers)-1):\n",
        "    result.append(numbers[i]*numbers[i-1] + numbers[i]*numbers[i+1])\n",
        "  result.append(numbers[-1]*numbers[-2])\n",
        "  return tuple(result)\n",
        "original_tuple=(1,5,7,8,10)\n",
        "result_tuple=multiply_adjacent_elements(original_tuple)\n",
        "print(result_tuple)"
      ],
      "metadata": {
        "colab": {
          "base_uri": "https://localhost:8080/"
        },
        "id": "7-S-J5g0SBWl",
        "outputId": "34fa3b80-7cf6-49a1-8d60-32ffed8b8c93"
      },
      "execution_count": null,
      "outputs": [
        {
          "output_type": "stream",
          "name": "stdout",
          "text": [
            "(5, 40, 91, 136, 80)\n"
          ]
        }
      ]
    },
    {
      "cell_type": "markdown",
      "source": [
        "###`Q3`: Check is tuples are same or not?\n",
        "Two tuples would be same if both tuples have same element at same index\n",
        "```\n",
        "t1 = (1,2,3,0)\n",
        "t2 = (0,1,2,3)\n",
        "\n",
        "t1 and t2 are not same\n",
        "```"
      ],
      "metadata": {
        "id": "Ehk_jUwlUiWW"
      }
    },
    {
      "cell_type": "code",
      "source": [
        "def check_tuples_same(t1,t2):\n",
        "  if len(t1)!=len(t2):\n",
        "    return False\n",
        "  for i in range(len(t1)):\n",
        "    if t1[i]!=t2[i]:\n",
        "      return False\n",
        "  return True\n",
        "t1=(1,2,3,0)\n",
        "t2=(1,2,3,0)\n",
        "result=check_tuples_same(t1,t2)\n",
        "print(result)"
      ],
      "metadata": {
        "colab": {
          "base_uri": "https://localhost:8080/"
        },
        "id": "_EG1_wm6a82T",
        "outputId": "8c56b27f-a701-4a82-9716-65b4eca9b606"
      },
      "execution_count": null,
      "outputs": [
        {
          "output_type": "stream",
          "name": "stdout",
          "text": [
            "True\n"
          ]
        }
      ]
    },
    {
      "cell_type": "markdown",
      "source": [
        "###`Q4`: Count no of tuples, list and set from a list\n",
        "```\n",
        "list1 = [{'hi', 'bye'},{'Geeks', 'forGeeks'},('a', 'b'),['hi', 'bye'],['a', 'b']]\n",
        "\n",
        "```\n",
        "`Output:`\n",
        "\n",
        "```\n",
        "List-2\n",
        "Set-2\n",
        "Tuples-1\n",
        "```\n"
      ],
      "metadata": {
        "id": "CB1aMLpIc08G"
      }
    },
    {
      "cell_type": "code",
      "source": [
        "def count_elements(list1):\n",
        "  count_tuples=0\n",
        "  count_lists=0\n",
        "  count_sets=0\n",
        "  for element in list1:\n",
        "    if isinstance(element,tuple):\n",
        "      count_tuples+=1\n",
        "    elif isinstance(element,list):\n",
        "      count_lists+=1\n",
        "    elif isinstance(element,set):\n",
        "      count_sets+=1\n",
        "  return f\"List -{count_lists}\\n set -{count_sets} \\n Tuples-{count_tuples}\"\n",
        "list1 = [{'hi', 'bye'}, {'Geeks', 'forGeeks'}, ('a', 'b'), ['hi', 'bye'], ['a', 'b']]\n",
        "\n",
        "output = count_elements(list1)\n",
        "print(output)"
      ],
      "metadata": {
        "colab": {
          "base_uri": "https://localhost:8080/"
        },
        "id": "Vy2R_2B_drJd",
        "outputId": "79b12fb7-4d5c-4b81-d2af-af6bf08a4958"
      },
      "execution_count": null,
      "outputs": [
        {
          "output_type": "stream",
          "name": "stdout",
          "text": [
            "List -2\n",
            " set -2 \n",
            " Tuples-1\n"
          ]
        }
      ]
    },
    {
      "cell_type": "markdown",
      "source": [
        "###`Q5`: Shortlist Students for a Job role\n",
        "Ask user to input students record and store in tuples for each record. Then Ask user to input three things he wants in the candidate- Primary Skill, Higher Education, Year of Graduation.\n",
        "\n",
        "Show every students record in form of tuples if matches all required criteria.\n",
        "\n",
        "It is assumed that there will be only one primry skill.\n",
        "\n",
        "If no such candidate found, print `No such candidate`\n",
        "\n",
        "`Input:`\n",
        "```\n",
        "Enter No of records- 2\n",
        "Enter Details of student-1\n",
        "Enter Student name- Manohar\n",
        "Enter Higher Education- B.Tech\n",
        "Enter Primary Skill- Python\n",
        "Enter Year of Graduation- 2022\n",
        "Enter Details of student-2\n",
        "Enter Student name- Ponian\n",
        "Enter Higher Education- B.Sc.\n",
        "Enter Primary Skill- C++\n",
        "Enter Year of Graduation- 2020\n",
        "\n",
        "Enter Job Role Requirement\n",
        "Enter Skill- Python\n",
        "Enter Higher Education- B.Tech\n",
        "Enter Year of Graduation- 2022\n",
        "```\n",
        "\n",
        "`Output`\n",
        "```\n",
        "('Manohar', 'B.tech', 'Python', '2022')\n",
        "```"
      ],
      "metadata": {
        "id": "H8bawEWThf43"
      }
    },
    {
      "cell_type": "code",
      "source": [
        "def shortlist_students():\n",
        "  students=[]\n",
        "  num=int(input(\"Enter the number of applicants \"))\n",
        "  for i in range(num):\n",
        "    print(\"Enter details of \",i+1,\"applicant :\")\n",
        "    name=input(\"Enter name :\")\n",
        "    h_ed=input(\"Enter higher education :\")\n",
        "    p_skil=input(\"Enter skil :\")\n",
        "    yog=input(\"Enter year of graduation :\")\n",
        "    students.append((name,h_ed,p_skil,yog))\n",
        "    req_skil=input(\"Enter required skil :\")\n",
        "    req_hed=input(\"Enter required higher education\")\n",
        "    req_yog=input('Enter required year of graduation: ')\n",
        "    flag=False\n",
        "    for student in students:\n",
        "      if (student[1]==req_hed\n",
        "      and student[2]==req_skil\n",
        "          and student[3]==req_yog\n",
        "          ):\n",
        "        print(student)\n",
        "        flag=True\n",
        "    if not flag:\n",
        "      print(\"no such candidate\")\n",
        "shortlist_students()"
      ],
      "metadata": {
        "colab": {
          "base_uri": "https://localhost:8080/"
        },
        "id": "8Xwq_brzohi1",
        "outputId": "2ade7ec8-1bbb-4af6-8ab7-509b2439a34c"
      },
      "execution_count": null,
      "outputs": [
        {
          "output_type": "stream",
          "name": "stdout",
          "text": [
            "Enter the number of applicants 2\n",
            "Enter details of  1 applicant :\n",
            "Enter name : Manohar\n",
            "Enter higher education :B.Tech\n",
            "Enter skil :Python\n",
            "Enter year of graduation :2022\n",
            "Enter required skil :Python\n",
            "Enter required higher educationB.Tech\n",
            "Enter required year of graduation: 2022\n",
            "(' Manohar', 'B.Tech', 'Python', '2022')\n",
            "Enter details of  2 applicant :\n",
            "Enter name :Ponian\n",
            "Enter higher education :B.Sc.\n",
            "Enter skil :C++\n",
            "Enter year of graduation : 2022\n",
            "Enter required skil :C++\n",
            "Enter required higher education 2022\n",
            "Enter required year of graduation: 2022\n",
            "no such candidate\n"
          ]
        }
      ]
    },
    {
      "cell_type": "markdown",
      "source": [
        "#`Q1:` Write a program to find set of common elements in three lists using sets.\n",
        "```\n",
        "Input : ar1 = [1, 5, 10, 20, 40, 80]\n",
        "        ar2 = [6, 7, 20, 80, 100]\n",
        "        ar3 = [3, 4, 15, 20, 30, 70, 80, 120]\n",
        "\n",
        "Output : [80, 20]\n",
        "```"
      ],
      "metadata": {
        "id": "m9v9AGwc_TBZ"
      }
    },
    {
      "cell_type": "code",
      "source": [
        "def find_common(arr1,arr2,arr3):\n",
        "  set1=set(arr1)\n",
        "  set2=set(arr2)\n",
        "  set3=set(arr3)\n",
        "  common_elements=set1.intersection(set2,set3)\n",
        "  return list(common_elements)\n",
        "arr1=[1, 5, 10, 20, 40, 80]\n",
        "arr2=[6, 7, 20, 80, 100]\n",
        "arr3=[3, 4, 15, 20, 30, 70, 80, 120]\n",
        "common_elements=find_common(arr1,arr2,arr3)\n",
        "print(common_elements)"
      ],
      "metadata": {
        "id": "h7VDiU2-r0Dt",
        "colab": {
          "base_uri": "https://localhost:8080/"
        },
        "outputId": "d621301b-1bef-4f8b-bff1-172cd60cb0e3"
      },
      "execution_count": null,
      "outputs": [
        {
          "output_type": "stream",
          "name": "stdout",
          "text": [
            "[80, 20]\n"
          ]
        }
      ]
    },
    {
      "cell_type": "markdown",
      "source": [
        "###`Q2:` Write a program to count unique number of vowels using sets in a given string. Lowercase and upercase vowels will be taken as different.\n",
        "\n",
        "`Input:`\n",
        "```\n",
        "Str1 = \"hands-on data science mentorship progrAm with live classes at affordable fee only on CampusX\"\n",
        "```\n",
        "`Output:`\n",
        "```\n",
        "No of unique vowels-6\n",
        "```"
      ],
      "metadata": {
        "id": "eMwhfAjtDxcF"
      }
    },
    {
      "cell_type": "code",
      "source": [
        "def count_unique_vowels(string):\n",
        "  vowels={'a','e','i','o','u','A','E','I','O','U'}\n",
        "  unique_vowels=set()\n",
        "  for char in string:\n",
        "    if char in vowels:\n",
        "      unique_vowels.add(char)\n",
        "  return len(unique_vowels)\n",
        "str1 = \"hands-on data science mentorship progrAm with live classes at affordable fee only on CampusX\"\n",
        "unique_vowels_count=count_unique_vowels(str1)\n",
        "print(\"No of unique vowels - \",unique_vowels_count)"
      ],
      "metadata": {
        "colab": {
          "base_uri": "https://localhost:8080/"
        },
        "id": "BYm4VRl0FBMs",
        "outputId": "b79b63a5-c81a-453b-a6a5-a57cbbbfb480"
      },
      "execution_count": null,
      "outputs": [
        {
          "output_type": "stream",
          "name": "stdout",
          "text": [
            "No of unique vowels -  6\n"
          ]
        }
      ]
    },
    {
      "cell_type": "markdown",
      "source": [
        "### `Q3:` Write a program to Check if a given string is binary string of or not.\n",
        "\n",
        "A string is said to be binary if it's consists of only two unique characters.\n",
        "\n",
        "Take string input from user.\n",
        "\n",
        "```\n",
        "Input: str = \"01010101010\"\n",
        "Output: Yes\n",
        "\n",
        "Input: str = \"1222211\"\n",
        "Output: Yes\n",
        "\n",
        "Input: str = \"Campusx\"\n",
        "Output: No\n",
        "```"
      ],
      "metadata": {
        "id": "a_p8C1w3G36s"
      }
    },
    {
      "cell_type": "code",
      "source": [
        "def is_binary_string(string):\n",
        "  unique_characters=set(string)\n",
        "  if len(unique_characters)==2:\n",
        "    return \"yes\"\n",
        "  else:\n",
        "    return \"no\"\n",
        "str1=input(\"Enter a string \")\n",
        "result=is_binary_string(str1)\n",
        "print(result)"
      ],
      "metadata": {
        "colab": {
          "base_uri": "https://localhost:8080/"
        },
        "id": "SlmySp9SHeHI",
        "outputId": "93269760-f05c-4714-e1c3-52c3d017a8eb"
      },
      "execution_count": null,
      "outputs": [
        {
          "output_type": "stream",
          "name": "stdout",
          "text": [
            "Enter a string 1222211\n",
            "yes\n"
          ]
        }
      ]
    },
    {
      "cell_type": "markdown",
      "source": [
        "### `Q4`: find union of n arrays.\n",
        "\n",
        "**Example 1:**\n",
        "\n",
        "Input:\n",
        "```bash\n",
        "[[1, 2, 2, 4, 3, 6],\n",
        " [5, 1, 3, 4],\n",
        " [9, 5, 7, 1],\n",
        " [2, 4, 1, 3]]\n",
        "```\n",
        "\n",
        "Output:\n",
        "\n",
        "```bash\n",
        "[1, 2, 3, 4, 5, 6, 7, 9]\n",
        "```"
      ],
      "metadata": {
        "id": "8ybAOXjMP2pZ"
      }
    },
    {
      "cell_type": "code",
      "source": [
        "def find_union(arrays):\n",
        "  union_set=set()\n",
        "  for array in arrays:\n",
        "    union_set.update(array)\n",
        "  union_list=list(union_set)\n",
        "  return union_list\n",
        "arrays = [[1, 2, 2, 4, 3, 6],\n",
        "          [5, 1, 3, 4],\n",
        "          [9, 5, 7, 1],\n",
        "          [2, 4, 1, 3]]\n",
        "union=find_union(arrays)\n",
        "print(union)"
      ],
      "metadata": {
        "colab": {
          "base_uri": "https://localhost:8080/"
        },
        "id": "xCcj15xESLNb",
        "outputId": "eedac02f-be50-40af-e986-bc35840889e4"
      },
      "execution_count": null,
      "outputs": [
        {
          "output_type": "stream",
          "name": "stdout",
          "text": [
            "[1, 2, 3, 4, 5, 6, 7, 9]\n"
          ]
        }
      ]
    },
    {
      "cell_type": "markdown",
      "source": [
        "### `Q5`: Intersection of two lists. Intersection of two list means we need to take all those elements which are common to both of the initial lists and store them into another list. Only use using **list-comprehension**.\n",
        "\n",
        "**Example 1:**\n",
        "\n",
        "Input:\n",
        "```bash\n",
        "lst1 = {15, 9, 10, 56, 23, 78, 5, 4, 9}\n",
        "lst2 = {9, 4, 5, 36, 47, 26, 10, 45, 87}\n",
        "```\n",
        "\n",
        "Output:\n",
        "```bash\n",
        "[9, 10, 4, 5]\n",
        "```\n",
        "\n",
        "**Example 2:**\n",
        "\n",
        "Input:\n",
        "```bash\n",
        "lst1 = {4, 9, 1, 17, 11, 26, 28, 54, 69}\n",
        "lst2 = {9, 9, 74, 21, 45, 11, 63, 28, 26}\n",
        "```\n",
        "\n",
        "Output:\n",
        "```bash\n",
        "[9, 11, 26, 28]\n",
        "```\n",
        "\n"
      ],
      "metadata": {
        "id": "2Z9Mv2QxxidC"
      }
    },
    {
      "cell_type": "code",
      "source": [
        "\n",
        "lst1 = {15, 9, 10, 56, 23, 78, 5, 4, 9}\n",
        "lst2 = {9, 4, 5, 36, 47, 26, 10, 45, 87}\n",
        "\n",
        "\n",
        "[item for item in lst1 if item in lst2]\n"
      ],
      "metadata": {
        "id": "OuAbMnJ9Tbxr",
        "colab": {
          "base_uri": "https://localhost:8080/"
        },
        "outputId": "2aadb2db-101b-4ff1-8116-b414a43d6178"
      },
      "execution_count": null,
      "outputs": [
        {
          "output_type": "execute_result",
          "data": {
            "text/plain": [
              "[4, 5, 9, 10]"
            ]
          },
          "metadata": {},
          "execution_count": 2
        }
      ]
    },
    {
      "cell_type": "markdown",
      "source": [
        "### `Q1`: Key with maximum unique values\n",
        "\n",
        "Given a dictionary with values list, extract key whose value has most unique values.\n",
        "\n",
        "**Example 1:**\n",
        "\n",
        "Input:\n",
        "\n",
        "```bash\n",
        "test_dict = {\"CampusX\" : [5, 7, 9, 4, 0], \"is\" : [6, 7, 4, 3, 3], \"Best\" : [9, 9, 6, 5, 5]}\n",
        "```\n",
        "\n",
        "Output:\n",
        "```bash\n",
        "CampusX\n",
        "```\n",
        "\n",
        "**Example 2:**\n",
        "\n",
        "Input:\n",
        "```bash\n",
        "test_dict = {\"CampusX\" : [5, 7, 7, 7, 7], \"is\" : [6, 7, 7, 7], \"Best\" : [9, 9, 6, 5, 5]}\n",
        "```\n",
        "\n",
        "Output:\n",
        "```bash\n",
        "Best\n",
        "```"
      ],
      "metadata": {
        "id": "i7PH2951izI_"
      }
    },
    {
      "cell_type": "code",
      "source": [
        "def find_key_with_max_unique_values(test_dict):\n",
        "  max_key=None\n",
        "  max_unique_values=0\n",
        "  for key,value in test_dict.items():\n",
        "    unique_values=len(set(value))\n",
        "    if unique_values>max_unique_values:\n",
        "      max_unique_values=unique_values\n",
        "      max_key=key\n",
        "  return max_key\n",
        "\n",
        "test_dict = {\"CampusX\" : [5, 7, 7, 7, 7], \"is\" : [6, 7, 7, 7], \"Best\" : [9, 9, 6, 5, 5]}\n",
        "result=find_key_with_max_unique_values(test_dict)\n",
        "print(result)\n",
        "\n",
        "test_dict = {\"CampusX\": [5, 7, 9, 4, 0], \"is\": [6, 7, 4, 3, 3], \"Best\": [9, 9, 6, 5, 5]}\n",
        "result = find_key_with_max_unique_values(test_dict)\n",
        "print(result)"
      ],
      "metadata": {
        "colab": {
          "base_uri": "https://localhost:8080/"
        },
        "id": "U3SKAyTdoxUi",
        "outputId": "27e9323d-dde7-4c12-8214-5080e9ae77a3"
      },
      "execution_count": 5,
      "outputs": [
        {
          "output_type": "stream",
          "name": "stdout",
          "text": [
            "Best\n",
            "CampusX\n"
          ]
        }
      ]
    },
    {
      "cell_type": "markdown",
      "source": [
        "### `Q2`: Replace words from Dictionary. Given String, replace it’s words from lookup dictionary.\n",
        "\n",
        "**Example 1:**\n",
        "\n",
        "Input:\n",
        "\n",
        "```bash\n",
        "test_str = 'CampusX best for DS students.'\n",
        "repl_dict = {\"best\" : \"is the best channel\", \"DS\" : \"Data-Science\"}\n",
        "```\n",
        "\n",
        "Output:\n",
        "\n",
        "```bash\n",
        "CampusX is the best channel for Data-Science students.\n",
        "```\n",
        "\n",
        "**Example 2:**\n",
        "\n",
        "Input:\n",
        "```bash\n",
        "test_str = 'CampusX best for DS students.'\n",
        "repl_dict = {\"good\" : \"is the best channel\", \"ds\" : \"Data-Science\"}\n",
        "```\n",
        "\n",
        "Output:\n",
        "```bash\n",
        "CampusX best for DS students.\n",
        "```"
      ],
      "metadata": {
        "id": "doaCFLn4t3Js"
      }
    },
    {
      "cell_type": "code",
      "source": [
        "def replace_words(test_str,repl_dict):\n",
        "  words=test_str.split()\n",
        "  replaced_words=[]\n",
        "  for word in words:\n",
        "    if word in repl_dict:\n",
        "      replaced_words.append(repl_dict[word])\n",
        "    else:\n",
        "      replaced_words.append(word)\n",
        "  replaced_str=' '.join(replaced_words)\n",
        "  return replaced_str\n",
        "\n",
        "test_str = 'CampusX best for DS students.'\n",
        "repl_dict = {\"best\": \"is the best channel\", \"DS\": \"Data-Science\"}\n",
        "result = replace_words(test_str, repl_dict)\n",
        "print(result)"
      ],
      "metadata": {
        "colab": {
          "base_uri": "https://localhost:8080/"
        },
        "id": "GeoEb6ghubK0",
        "outputId": "8d78802b-f07f-4fe8-c482-a7cccc66d139"
      },
      "execution_count": 8,
      "outputs": [
        {
          "output_type": "stream",
          "name": "stdout",
          "text": [
            "CampusX is the best channel for Data-Science students.\n"
          ]
        }
      ]
    },
    {
      "cell_type": "code",
      "source": [
        "test_str = 'CampusX best for DS students.'\n",
        "repl_dict = {\"good\" : \"is the best channel\", \"ds\" : \"Data-Science\"}\n",
        "result= replace_words(test_str, repl_dict)\n",
        "print(result)"
      ],
      "metadata": {
        "colab": {
          "base_uri": "https://localhost:8080/"
        },
        "id": "_tD2OfOryLRy",
        "outputId": "ca925026-32bc-4608-b199-e4bafd27ec51"
      },
      "execution_count": 9,
      "outputs": [
        {
          "output_type": "stream",
          "name": "stdout",
          "text": [
            "CampusX best for DS students.\n"
          ]
        }
      ]
    },
    {
      "cell_type": "markdown",
      "source": [
        "### `Q3`: Convert List to List of dictionaries. Given list values and keys list, convert these values to key value pairs in form of list of dictionaries.\n",
        "\n",
        "**Example 1:**\n",
        "\n",
        "Input:\n",
        "```bash\n",
        "test_list = [\"DataScience\", 3, \"is\", 8]\n",
        "key_list = [\"name\", \"id\"]\n",
        "```\n",
        "\n",
        "Output:\n",
        "\n",
        "```bash\n",
        "[{'name': 'DataScience', 'id': 3}, {'name': 'is', 'id': 8}]\n",
        "```\n",
        "\n",
        "**Example 2:**\n",
        "\n",
        "Input:\n",
        "```bash\n",
        "test_list = [\"CampusX\", 10]\n",
        "key_list = [\"name\", \"id\"]\n",
        "```\n",
        "\n",
        "Output:\n",
        "\n",
        "```bash\n",
        "[{'name': 'CampusX', 'id': 10}]\n",
        "```"
      ],
      "metadata": {
        "id": "20yA7k9f0PD2"
      }
    },
    {
      "cell_type": "code",
      "source": [
        "def convert_list_to_dicts(test_list,key_list):\n",
        "  return[{key:value for key,value in zip(key_list,test_list[i:i+len(key_list)])}\n",
        "         for i in range(0,len(test_list),len(key_list)\n",
        "  )]\n",
        "test_list = [\"DataScience\", 3, \"is\", 8]\n",
        "key_list = [\"name\", \"id\"]\n",
        "result = convert_list_to_dicts(test_list, key_list)\n",
        "print(result)"
      ],
      "metadata": {
        "colab": {
          "base_uri": "https://localhost:8080/"
        },
        "id": "0z_BjnL01Il5",
        "outputId": "4c8807e0-c8a7-47d8-e8a9-0103cbcd9b11"
      },
      "execution_count": 13,
      "outputs": [
        {
          "output_type": "stream",
          "name": "stdout",
          "text": [
            "[{'name': 'DataScience', 'id': 3}, {'name': 'is', 'id': 8}]\n"
          ]
        }
      ]
    },
    {
      "cell_type": "markdown",
      "source": [
        "### `Q4`: Convert a list of Tuples into Dictionary.\n",
        "\n",
        "**Example 1:**\n",
        "\n",
        "Input:\n",
        "```bash\n",
        "[(\"akash\", 10), (\"gaurav\", 12), (\"anand\", 14), (\"suraj\", 20), (\"akhil\", 25), (\"ashish\", 30)]\n",
        "```\n",
        "\n",
        "Output:\n",
        "```bash\n",
        "{'akash': [10], 'gaurav': [12], 'anand': [14], 'suraj': [20], 'akhil': [25], 'ashish': [30]}\n",
        "```\n",
        "\n",
        "**Example 2:**\n",
        "\n",
        "Input:\n",
        "```bash\n",
        "[('A', 1), ('B', 2), ('C', 3)]\n",
        "```\n",
        "\n",
        "Output:\n",
        "```bash\n",
        "{'A': [1], 'B': [2], 'C': [3]}\n",
        "```"
      ],
      "metadata": {
        "id": "grJvl3iL68Cz"
      }
    },
    {
      "cell_type": "code",
      "source": [
        "def convert_tuples_to_dict(tuple_list):\n",
        "  result={}\n",
        "  for key,value in tuple_list:\n",
        "    if key in result:\n",
        "      result[key].append(value)\n",
        "    else:\n",
        "      result[key]=[value]\n",
        "  return result\n",
        "tuple_list = [('A', 1), ('B', 2), ('C', 3)]\n",
        "result = convert_tuples_to_dict(tuple_list)\n",
        "print(result)"
      ],
      "metadata": {
        "colab": {
          "base_uri": "https://localhost:8080/"
        },
        "id": "YrhIK6ZI7W_x",
        "outputId": "1ee22342-3c0d-4482-d511-fc59de140559"
      },
      "execution_count": 18,
      "outputs": [
        {
          "output_type": "stream",
          "name": "stdout",
          "text": [
            "{'A': [1], 'B': [2], 'C': [3]}\n"
          ]
        }
      ]
    },
    {
      "cell_type": "markdown",
      "source": [
        "### `Q5`: Sort Dictionary key and values List.\n",
        "\n",
        "**Example 1:**\n",
        "\n",
        "Input:\n",
        "\n",
        "```bash\n",
        "{'c': [3], 'b': [12, 10], 'a': [19, 4]}\n",
        "```\n",
        "\n",
        "Output:\n",
        "\n",
        "```bash\n",
        "{'a': [4, 19], 'b': [10, 12], 'c': [3]}\n",
        "```\n",
        "\n",
        "**Example 2:**\n",
        "\n",
        "Input:\n",
        "\n",
        "```bash\n",
        "{'c': [10, 34, 3]}\n",
        "```\n",
        "\n",
        "Output:\n",
        "\n",
        "```bash\n",
        "{'c': [3, 10, 34]}\n",
        "```"
      ],
      "metadata": {
        "id": "Wh9k2hJ5_p78"
      }
    },
    {
      "cell_type": "code",
      "source": [
        "def sort_dict_keys_and_values(dictionary):\n",
        "  sorted_dict={}\n",
        "  for key,value in sorted(dictionary.items()):\n",
        "    sorted_dict[key]=sorted(value)\n",
        "  return sorted_dict\n",
        "dictionary = {'c': [10, 34, 3]}\n",
        "result = sort_dict_keys_and_values(dictionary)\n",
        "print(result)"
      ],
      "metadata": {
        "colab": {
          "base_uri": "https://localhost:8080/"
        },
        "id": "2g5UVGIOAYPS",
        "outputId": "3d9f8036-6c0d-4ff5-9148-1426f286dde3"
      },
      "execution_count": 21,
      "outputs": [
        {
          "output_type": "stream",
          "name": "stdout",
          "text": [
            "{'c': [3, 10, 34]}\n"
          ]
        }
      ]
    },
    {
      "cell_type": "code",
      "source": [],
      "metadata": {
        "id": "7eQJNxH4Btr9"
      },
      "execution_count": null,
      "outputs": []
    }
  ]
}