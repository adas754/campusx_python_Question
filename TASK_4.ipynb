{
  "nbformat": 4,
  "nbformat_minor": 0,
  "metadata": {
    "colab": {
      "provenance": []
    },
    "kernelspec": {
      "name": "python3",
      "display_name": "Python 3"
    },
    "language_info": {
      "name": "python"
    }
  },
  "cells": [
    {
      "cell_type": "markdown",
      "source": [
        "###`Problem 1:` Combine two lists index-wise(columns wise)\n",
        "\n",
        "Write a program to add two lists index-wise. Create a new list that contains the 0th index item from both the list, then the 1st index item, and so on till the last element. any leftover items will get added at the end of the new list.\n",
        "\n",
        "`Given List:`\n",
        "```\n",
        "list1 = [\"M\", \"na\", \"i\", \"Kh\"]\n",
        "list2 = [\"y\", \"me\", \"s\", \"an\"]\n",
        "```\n",
        "\n",
        "`Output:`\n",
        "```\n",
        "[['M','y'], ['na', me'], ['i', 's'], ['Kh', 'an']]\n",
        "```"
      ],
      "metadata": {
        "id": "maH2B__9dnE0"
      }
    },
    {
      "cell_type": "code",
      "execution_count": null,
      "metadata": {
        "colab": {
          "base_uri": "https://localhost:8080/"
        },
        "id": "lNti0-pfb28U",
        "outputId": "a3b897cc-9be4-49ba-94b3-8ec1ab339152"
      },
      "outputs": [
        {
          "output_type": "execute_result",
          "data": {
            "text/plain": [
              "[['M', 'y'], ['na', 'me'], ['i', 's'], ['Kh', 'an']]"
            ]
          },
          "metadata": {},
          "execution_count": 1
        }
      ],
      "source": [
        "list1 = [\"M\", \"na\", \"i\", \"Kh\"]\n",
        "list2 = [\"y\", \"me\", \"s\", \"an\"]\n",
        "[[i,j] for (i,j) in zip(list1,list2)]"
      ]
    },
    {
      "cell_type": "markdown",
      "source": [
        "### `Problem 2:` Add new item to list after a specified item\n",
        "Write a program to add item 7000 after 6000 in the following Python List\n",
        "```\n",
        "list1 = [10, 20, [300, 400, [5000, 6000], 500], 30, 40]\n",
        "```\n",
        "`Output:`\n",
        "```\n",
        "[10, 20, [300, 400, [5000, 6000, 7000], 500], 30, 40]\n",
        "```"
      ],
      "metadata": {
        "id": "m6ZMCOUPefnl"
      }
    },
    {
      "cell_type": "code",
      "source": [
        "list1 = [10, 20, [300, 400, [5000, 6000], 500], 30, 40]\n",
        "list1[2][2].append(7000)\n",
        "list1\n"
      ],
      "metadata": {
        "colab": {
          "base_uri": "https://localhost:8080/"
        },
        "id": "tPLUtpe5emYo",
        "outputId": "a5b71be6-2f67-4020-ad46-1e66fa524d3d"
      },
      "execution_count": null,
      "outputs": [
        {
          "output_type": "execute_result",
          "data": {
            "text/plain": [
              "[10, 20, [300, 400, [5000, 6000, 7000], 500], 30, 40]"
            ]
          },
          "metadata": {},
          "execution_count": 2
        }
      ]
    },
    {
      "cell_type": "markdown",
      "source": [
        "###`Problem 3:` Update no of items available\n",
        "\n",
        "Suppose you are given a list of candy and another list of same size representing no of items of respective candy. \n",
        "\n",
        "i.e -  \n",
        "```\n",
        "candy_list = ['Jelly Belly','Kit Kat','Double Bubble','Milky Way','Three Musketeers']\n",
        "no_of_items = [10,20,34,74,32]\n",
        "```\n",
        "\n",
        "Write a program to show no. of items of each candy type.\n",
        "\n",
        "`Output:`\n",
        "\n",
        "```\n",
        "Jelly Belly-10\n",
        "Kit Kat-20\n",
        "Double Bubble-34\n",
        "Milky Way-74\n",
        "Three Musketeers-32\n",
        "\n",
        "```"
      ],
      "metadata": {
        "id": "2zBnWjJyfdq3"
      }
    },
    {
      "cell_type": "code",
      "source": [
        "# Write code here\n",
        "\n",
        "candy_list = ['Jelly Belly','Kit Kat','Double Bubble','Milky Way','Three Musketeers']\n",
        "no_of_items = [10,20,34,74,32]\n",
        "for(i,j)in zip(candy_list,no_of_items):\n",
        "  print(i,'-',j)"
      ],
      "metadata": {
        "colab": {
          "base_uri": "https://localhost:8080/"
        },
        "id": "vQBXF-r0fQlg",
        "outputId": "954a28d6-39ff-4d4b-d8bd-ef5931770793"
      },
      "execution_count": null,
      "outputs": [
        {
          "output_type": "stream",
          "name": "stdout",
          "text": [
            "Jelly Belly - 10\n",
            "Kit Kat - 20\n",
            "Double Bubble - 34\n",
            "Milky Way - 74\n",
            "Three Musketeers - 32\n"
          ]
        }
      ]
    },
    {
      "cell_type": "markdown",
      "source": [
        "###`Problem 4:` Running Sum on list\n",
        "Write a program to print a list after performing running sum on it.\n",
        "\n",
        "i.e:\n",
        "\n",
        "`Input:`\n",
        "```\n",
        "list1 = [1,2,3,4,5,6]\n",
        "```\n",
        "`Output:`\n",
        "```\n",
        "[1,3,6,10,15,21]\n",
        "```"
      ],
      "metadata": {
        "id": "y8_9fsZshruP"
      }
    },
    {
      "cell_type": "code",
      "source": [
        "def calculate_running_sum(lst):\n",
        "  running_sum=[]\n",
        "  sum_so_far=0\n",
        "  for num in lst:\n",
        "    sum_so_far+=num\n",
        "    running_sum.append(sum_so_far)\n",
        "  return running_sum\n",
        "list1=[1,2,3,4,5,6]\n",
        "result=calculate_running_sum(list1)\n",
        "print(result)\n"
      ],
      "metadata": {
        "colab": {
          "base_uri": "https://localhost:8080/"
        },
        "id": "RAom7gkEgAzH",
        "outputId": "605c5611-9c7b-4d1e-a5b7-df546f811a40"
      },
      "execution_count": null,
      "outputs": [
        {
          "output_type": "stream",
          "name": "stdout",
          "text": [
            "[1, 3, 6, 10, 15, 21]\n"
          ]
        }
      ]
    },
    {
      "cell_type": "markdown",
      "source": [
        "###`Problem 5:` You are given a list of integers. You are asked to make a list by running through elements of the list by adding all elements greater and itself.\n",
        "\n",
        "i.e. Say given list is `[2,4,6,10,1]`\n",
        "resultant list will be `[22,20,10,23]`.\n",
        "\n",
        "For 1st element `2` ->> these are greater `(4+6+10)` values and `2` itself so on adding becomes `22`.\n",
        "\n",
        "For 2nd element `4` ->> greater elements are `(6, 10)` and `4` itself, so on adding `20`\n",
        "\n",
        "like wise for all other elememts.\n",
        "\n",
        "`[2,4,6,10,1]`-->`[22,20,16,10,23]`\n",
        "\n",
        "\n"
      ],
      "metadata": {
        "id": "CqIli-j3lum5"
      }
    },
    {
      "cell_type": "code",
      "source": [
        "def calculate_sums(lst):\n",
        "  result=[]\n",
        "  for i in lst:\n",
        "    total_sum=0\n",
        "    for j in lst:\n",
        "      if i<=j:\n",
        "        total_sum+=j\n",
        "    result.append(total_sum)\n",
        "  return result\n",
        "l=[2,4,6,10,1]\n",
        "result=calculate_sums(l)\n",
        "print(result)"
      ],
      "metadata": {
        "colab": {
          "base_uri": "https://localhost:8080/"
        },
        "id": "sDQ43-VlSHal",
        "outputId": "ecbafd36-c127-4dc4-b9d7-4a94010ec4cf"
      },
      "execution_count": null,
      "outputs": [
        {
          "output_type": "stream",
          "name": "stdout",
          "text": [
            "[22, 20, 16, 10, 23]\n"
          ]
        }
      ]
    },
    {
      "cell_type": "markdown",
      "source": [
        "###`Problem 6:` Find list of common unique items from two list. and show in increasing order\n",
        "\n",
        "`Input`\n",
        "\n",
        "```\n",
        "num1 = [23,45,67,78,89,34]\n",
        "num2 = [34,89,55,56,39,67]\n",
        "```\n",
        "\n",
        "`Output:`\n",
        "```\n",
        "[34, 67, 89]\n",
        "```"
      ],
      "metadata": {
        "id": "TApfTsypWMxK"
      }
    },
    {
      "cell_type": "code",
      "source": [
        "def find_common(num1,num2):\n",
        "  common_items=list(set(num1)&set(num2))\n",
        "  common_items.sort()\n",
        "  return common_items\n",
        "num1=[23,45,67,78,89,34]\n",
        "num2=[34,89,55,56,39,67]\n",
        "result=find_common(num1,num2)\n",
        "print(result)"
      ],
      "metadata": {
        "colab": {
          "base_uri": "https://localhost:8080/"
        },
        "id": "7DFpQGgWSxr6",
        "outputId": "4f51648a-8c1a-4a38-b0aa-0f3208e60aef"
      },
      "execution_count": null,
      "outputs": [
        {
          "output_type": "stream",
          "name": "stdout",
          "text": [
            "[34, 67, 89]\n"
          ]
        }
      ]
    },
    {
      "cell_type": "markdown",
      "source": [
        "###`Problem 7:` Sort a list of alphanumeric strings based on product value of numeric character in it. If in any string there is no numeric character take it's product value as 1.\n",
        "\n",
        "`Input:`\n",
        "```\n",
        "['1ac21', '23fg', '456', '098d','1','kls']\n",
        "```\n",
        "\n",
        "`Output:`\n",
        "```\n",
        "['456', '23fg', '1ac21', '1', 'kls', '098d']\n",
        "\n",
        "```"
      ],
      "metadata": {
        "id": "0o_MlfF7bAI8"
      }
    },
    {
      "cell_type": "code",
      "source": [
        "def get_product_value(string):\n",
        "  product=1\n",
        "  for char in string:\n",
        "    if char.isdigit():\n",
        "      product*=int(char)\n",
        "  return product\n",
        "def sort_string_by_product_value(strings):\n",
        "  product_list=[(get_product_value(string),string) for string in strings]\n",
        "  sorted_list=[item[1] for item in sorted(product_list,reverse=True)]\n",
        "  return sorted_list\n",
        "l=['1ac21', '23fg', '456', '098d', '1', 'kls']\n",
        "output_string=sort_string_by_product_value(l)\n",
        "print(output_string)"
      ],
      "metadata": {
        "colab": {
          "base_uri": "https://localhost:8080/"
        },
        "id": "GzUvva61cF3w",
        "outputId": "ec59fea1-7c6a-4c75-e03c-3fbe23f415da"
      },
      "execution_count": null,
      "outputs": [
        {
          "output_type": "stream",
          "name": "stdout",
          "text": [
            "['456', '23fg', '1ac21', 'kls', '1', '098d']\n"
          ]
        }
      ]
    },
    {
      "cell_type": "markdown",
      "source": [
        "`Problem 8:` Split String of list on K character.\n",
        "\n",
        "**Example :**\n",
        "\n",
        "Input:\n",
        "```bash\n",
        "['CampusX is a channel', 'for data-science', 'aspirants.']\n",
        "```\n",
        "\n",
        "Output:\n",
        "```bash\n",
        "['CampusX', 'is', 'a', 'channel', 'for', 'data-science', 'aspirants.']\n",
        "```"
      ],
      "metadata": {
        "id": "e6wFmjWLjbKJ"
      }
    },
    {
      "cell_type": "code",
      "source": [
        "def split_string_by_character(strings,character):\n",
        "  result=[]\n",
        "  for string in strings:\n",
        "    result.extend(string.split())\n",
        "  return result\n",
        "input_string=['CampusX is a channel', 'for data-science', 'aspirants.']\n",
        "output_list=split_string_by_character(input_string,' ')\n",
        "print(output_list)"
      ],
      "metadata": {
        "colab": {
          "base_uri": "https://localhost:8080/"
        },
        "id": "yW1pkt1-kxTi",
        "outputId": "66bc88d7-0c74-47fb-9a63-8c45cfcd30dc"
      },
      "execution_count": null,
      "outputs": [
        {
          "output_type": "stream",
          "name": "stdout",
          "text": [
            "['CampusX', 'is', 'a', 'channel', 'for', 'data-science', 'aspirants.']\n"
          ]
        }
      ]
    },
    {
      "cell_type": "markdown",
      "source": [
        "### `Problem 9:` Convert Character Matrix to single String using string comprehension.\n",
        "\n",
        "**Example 1:** \n",
        "\n",
        "Input:\n",
        "```bash\n",
        "[['c', 'a', 'm', 'p', 'u', 'x'], ['i', 's'], ['b', 'e', 's', 't'], ['c', 'h', 'a', 'n', 'n', 'e', 'l']]\n",
        "```\n",
        "\n",
        "Output:\n",
        "```bash\n",
        "campux is best channel\n",
        "```"
      ],
      "metadata": {
        "id": "h_CP7Cx-r0df"
      }
    },
    {
      "cell_type": "code",
      "source": [
        "L = [['c', 'a', 'm', 'p', 'u', 'x'], ['i', 's'], ['b', 'e', 's', 't'], ['c', 'h', 'a', 'n', 'n', 'e', 'l']]\n",
        "\n"
      ],
      "metadata": {
        "id": "JQgAt4Ekrs30"
      },
      "execution_count": null,
      "outputs": []
    },
    {
      "cell_type": "code",
      "source": [
        "print(\" \".join([\"\".join(i) for i in L]))"
      ],
      "metadata": {
        "colab": {
          "base_uri": "https://localhost:8080/"
        },
        "id": "rIYUXm6wsnBH",
        "outputId": "a3156f70-ddf6-4bed-f899-1a9761c3e1ac"
      },
      "execution_count": null,
      "outputs": [
        {
          "output_type": "stream",
          "name": "stdout",
          "text": [
            "campux is best channel\n"
          ]
        }
      ]
    },
    {
      "cell_type": "markdown",
      "source": [
        "### `Problem 10:` Add Space between Potential Words.\n",
        "\n",
        "**Example:**\n",
        "\n",
        "Input:\n",
        "\n",
        "```bash\n",
        "['campusxIs', 'bestFor', 'dataScientist']\n",
        "```\n",
        "\n",
        "Output:\n",
        "```bash\n",
        "['campusx Is', 'best For', 'data Scientist']\n",
        "```"
      ],
      "metadata": {
        "id": "ixBFOcs3uyD0"
      }
    },
    {
      "cell_type": "code",
      "source": [
        "\n",
        "def add_spaces(strings):\n",
        "  result=[]\n",
        "  for string in strings:\n",
        "    new_string=\"\"\n",
        "    for char in string:\n",
        "      if char.isupper() and new_string !=\"\":\n",
        "        new_string+=\" \"+char\n",
        "      else:\n",
        "        new_string+=char\n",
        "    result.append(new_string)\n",
        "  return result\n",
        "input_string=['campusxIs', 'bestFor', 'dataScientist']\n",
        "output_string=add_spaces(input_string)\n",
        "print(output_string)"
      ],
      "metadata": {
        "colab": {
          "base_uri": "https://localhost:8080/"
        },
        "id": "6W53ZidY1PN7",
        "outputId": "47eb591c-1796-4d05-8c0d-a1a25734e44a"
      },
      "execution_count": 5,
      "outputs": [
        {
          "output_type": "stream",
          "name": "stdout",
          "text": [
            "['campusx Is', 'best For', 'data Scientist']\n"
          ]
        }
      ]
    },
    {
      "cell_type": "markdown",
      "source": [
        "### `Problem 11:` Write a program that can perform union operation on 2 lists\n",
        "\n",
        "**Example:**\n",
        "\n",
        "Input:\n",
        "\n",
        "```bash\n",
        "[1,2,3,4,5,1]\n",
        "[2,3,5,7,8]\n",
        "```\n",
        "\n",
        "Output:\n",
        "```bash\n",
        "[1,2,3,4,5,7,8]\n",
        "```"
      ],
      "metadata": {
        "id": "Qc3pqVhU7gGA"
      }
    },
    {
      "cell_type": "code",
      "source": [
        "def union(list1,list2):\n",
        "  union_list=[]\n",
        "  for item in list1:\n",
        "    if item not in union_list:\n",
        "      union_list.append(item)\n",
        "  for item in list2:\n",
        "    if item not in union_list:\n",
        "      union_list.append(item)\n",
        "  return union_list\n",
        "l1=[1,2,3,4,5,1]\n",
        "l2=[2,3,5,7,8]\n",
        "result=union(l1,l2)\n",
        "print(result)"
      ],
      "metadata": {
        "colab": {
          "base_uri": "https://localhost:8080/"
        },
        "id": "ySlRc9oW8blC",
        "outputId": "1eea3ffa-cbf7-4fc1-cf01-d3f4f940eb31"
      },
      "execution_count": 9,
      "outputs": [
        {
          "output_type": "stream",
          "name": "stdout",
          "text": [
            "[1, 2, 3, 4, 5, 7, 8]\n"
          ]
        }
      ]
    },
    {
      "cell_type": "markdown",
      "source": [
        "### `Problem 12:` Write a program that can find the max number of each row of a matrix\n",
        "\n",
        "**Example:**\n",
        "\n",
        "Input:\n",
        "\n",
        "```bash\n",
        "[[1,2,3],[4,5,6],[7,8,9]]\n",
        "```\n",
        "\n",
        "Output:\n",
        "```bash\n",
        "[3,6,9]\n",
        "```"
      ],
      "metadata": {
        "id": "rVk3c6Gx_-EQ"
      }
    },
    {
      "cell_type": "code",
      "source": [
        "def find_max_of_each_row(matrix):\n",
        "  max_numbers=[]\n",
        "  for row in matrix:\n",
        "    max_number=max(row)\n",
        "    max_numbers.append(max_number)\n",
        "  return max_numbers\n",
        "matrix = [[1, 2, 3], [4, 5, 6], [7, 8, 9]]\n",
        "result = find_max_of_each_row(matrix)\n",
        "print(result)\n"
      ],
      "metadata": {
        "colab": {
          "base_uri": "https://localhost:8080/"
        },
        "id": "u7Cr7JnNA1LY",
        "outputId": "ce2af4ec-49a2-4a55-e2dd-b5210171bfdb"
      },
      "execution_count": 12,
      "outputs": [
        {
          "output_type": "stream",
          "name": "stdout",
          "text": [
            "[3, 6, 9]\n"
          ]
        }
      ]
    },
    {
      "cell_type": "markdown",
      "source": [
        "### `Problem 13:` Write a list comprehension to print the following matrix\n",
        "\n",
        "[[0, 1, 2], [3, 4, 5], [6, 7, 8]]\n",
        "\n"
      ],
      "metadata": {
        "id": "zUh55DDIEA7M"
      }
    },
    {
      "cell_type": "code",
      "source": [
        "[[j+3*i for j in range(0,3)] for i in range(0,3)]"
      ],
      "metadata": {
        "colab": {
          "base_uri": "https://localhost:8080/"
        },
        "id": "ZSA5Qq4JEO1B",
        "outputId": "c271dafa-dd26-4af2-9189-40b1f6da2300"
      },
      "execution_count": 14,
      "outputs": [
        {
          "output_type": "execute_result",
          "data": {
            "text/plain": [
              "[[0, 1, 2], [3, 4, 5], [6, 7, 8]]"
            ]
          },
          "metadata": {},
          "execution_count": 14
        }
      ]
    },
    {
      "cell_type": "markdown",
      "source": [
        "### `Problem 14:` Write a list comprehension that can transpose a given matrix\n",
        "\n",
        "matrix = [<br>\n",
        "  [1,2,3],<br>\n",
        "          [4,5,6],<br>\n",
        "          [7,8,9]<br>]<br>\n",
        "\n",
        "[1, 4, 7]<br>\n",
        "[2, 5, 8]<br>\n",
        "[3, 6, 9]<br>"
      ],
      "metadata": {
        "id": "BGxTTJS9GmHt"
      }
    },
    {
      "cell_type": "code",
      "source": [
        "matrix = [\n",
        "[1,2,3],\n",
        "[4,5,6],\n",
        "[7,8,9]\n",
        "]\n",
        "\n"
      ],
      "metadata": {
        "id": "CdGT7n4gGHYM"
      },
      "execution_count": 17,
      "outputs": []
    },
    {
      "cell_type": "code",
      "source": [
        "[[row[i] for row in matrix]for i in range(len(matrix))]"
      ],
      "metadata": {
        "colab": {
          "base_uri": "https://localhost:8080/"
        },
        "id": "UncS07CqHLai",
        "outputId": "ab8fe5e6-3be3-46d2-e6b3-917f723cd3ef"
      },
      "execution_count": 18,
      "outputs": [
        {
          "output_type": "execute_result",
          "data": {
            "text/plain": [
              "[[1, 4, 7], [2, 5, 8], [3, 6, 9]]"
            ]
          },
          "metadata": {},
          "execution_count": 18
        }
      ]
    },
    {
      "cell_type": "markdown",
      "source": [
        "### `Problem 15:` Write a list comprehension that can flatten a nested list\n",
        "\n",
        "Input<br>\n",
        "matrix = [<br>\n",
        "  [1,2,3],<br>\n",
        "          [4,5,6],<br>\n",
        "          [7,8,9]<br>]<br>\n",
        "\n",
        "Output:<br>\n",
        "[1, 2, 3, 4, 5, 6, 7, 8, 9]"
      ],
      "metadata": {
        "id": "xLX7KQbtHkUn"
      }
    },
    {
      "cell_type": "code",
      "source": [
        "[item for row in matrix for item in row]"
      ],
      "metadata": {
        "colab": {
          "base_uri": "https://localhost:8080/"
        },
        "id": "kKg3gk-QHxST",
        "outputId": "19e5a91c-bd1b-4d14-8d53-d7414d2299c8"
      },
      "execution_count": 22,
      "outputs": [
        {
          "output_type": "execute_result",
          "data": {
            "text/plain": [
              "[1, 2, 3, 4, 5, 6, 7, 8, 9]"
            ]
          },
          "metadata": {},
          "execution_count": 22
        }
      ]
    },
    {
      "cell_type": "code",
      "source": [],
      "metadata": {
        "id": "4T0MCRbaH5-k"
      },
      "execution_count": null,
      "outputs": []
    }
  ]
}