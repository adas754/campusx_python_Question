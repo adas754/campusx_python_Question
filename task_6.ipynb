{
  "nbformat": 4,
  "nbformat_minor": 0,
  "metadata": {
    "colab": {
      "provenance": []
    },
    "kernelspec": {
      "name": "python3",
      "display_name": "Python 3"
    },
    "language_info": {
      "name": "python"
    }
  },
  "cells": [
    {
      "cell_type": "markdown",
      "source": [
        "### **`Problem-1:`** Write a Python function that takes a list and returns a new list with unique elements of the first list.\n",
        "\n",
        "**Exercise 1:**\n",
        "\n",
        "Input:\n",
        "\n",
        "```bash\n",
        "[1,2,3,3,3,3,4,5]\n",
        "```\n",
        "\n",
        "Output:\n",
        "\n",
        "```bash\n",
        "[1, 2, 3, 4, 5]\n",
        "```"
      ],
      "metadata": {
        "id": "h2VBCWATEtVi"
      }
    },
    {
      "cell_type": "code",
      "source": [
        "def get_unique_elements(input_list):\n",
        "  return list(set(input_list))\n",
        "input_list = [1, 2, 3, 3, 3, 3, 4, 5]\n",
        "result = get_unique_elements(input_list)\n",
        "print(result)"
      ],
      "metadata": {
        "colab": {
          "base_uri": "https://localhost:8080/"
        },
        "id": "_JVUAyLQFye0",
        "outputId": "b5f935bd-f493-45fb-820d-c1fa87791fd2"
      },
      "execution_count": null,
      "outputs": [
        {
          "output_type": "stream",
          "name": "stdout",
          "text": [
            "[1, 2, 3, 4, 5]\n"
          ]
        }
      ]
    },
    {
      "cell_type": "markdown",
      "source": [
        "### **`Problem-2:`** Write a Python function that accepts a hyphen-separated sequence of words as parameter and returns the words in a hyphen-separated sequence after sorting them alphabetically.\n",
        "\n",
        "**Example 1:**\n",
        "\n",
        "Input:\n",
        "```bash\n",
        "green-red-yellow-black-white\n",
        "```\n",
        "\n",
        "Output:\n",
        "```bash\n",
        "black-green-red-white-yellow\n",
        "```"
      ],
      "metadata": {
        "id": "r0SKdHbNGcNL"
      }
    },
    {
      "cell_type": "code",
      "source": [
        "def sort_hyphen_separated_sequence(sequence):\n",
        "  words=sequence.split(\"-\")\n",
        "  sorted_words=sorted(words)\n",
        "  sorted_sequence=\"-\" .join(sorted_words)\n",
        "  return sorted_sequence\n",
        "sequence = \"green-red-yellow-black-white\"\n",
        "result = sort_hyphen_separated_sequence(sequence)\n",
        "print(result)"
      ],
      "metadata": {
        "colab": {
          "base_uri": "https://localhost:8080/"
        },
        "id": "-ECwiK_ZGsph",
        "outputId": "f45d854c-db36-46ee-dd08-3d173265ff56"
      },
      "execution_count": null,
      "outputs": [
        {
          "output_type": "stream",
          "name": "stdout",
          "text": [
            "black-green-red-white-yellow\n"
          ]
        }
      ]
    },
    {
      "cell_type": "markdown",
      "source": [
        "### **`Problem 3:`** Write a Python function that accepts a string and calculate the number of upper case letters and lower case letters.\n",
        "\n",
        "```\n",
        "Sample String : 'CampusX is an Online Mentorship Program fOr EnginEering studentS.'\n",
        "Expected Output :\n",
        "No. of Upper case characters :  9\n",
        "No. of Lower case Characters :  47\n",
        "```"
      ],
      "metadata": {
        "id": "2c6mkU1CI2rs"
      }
    },
    {
      "cell_type": "code",
      "source": [
        "def count_uppercase_lowercase(string):\n",
        "  uppercase_count=0\n",
        "  lowercase_count=0\n",
        "  for char in string:\n",
        "    if char.isupper():\n",
        "      uppercase_count+=1\n",
        "    elif char.islower():\n",
        "      lowercase_count+=1\n",
        "  return uppercase_count,lowercase_count\n",
        "string = 'CampusX is an Online Mentorship Program fOr EnginEering studentS.'\n",
        "uppercase_count, lowercase_count = count_uppercase_lowercase(string)\n",
        "print(\"No. of Upper case characters:\", uppercase_count)\n",
        "print(\"No. of Lower case characters:\", lowercase_count)"
      ],
      "metadata": {
        "colab": {
          "base_uri": "https://localhost:8080/"
        },
        "id": "G7T7IjouJDn2",
        "outputId": "a2875c6f-e76a-4133-a495-2ec9059c9d9b"
      },
      "execution_count": null,
      "outputs": [
        {
          "output_type": "stream",
          "name": "stdout",
          "text": [
            "No. of Upper case characters: 9\n",
            "No. of Lower case characters: 47\n"
          ]
        }
      ]
    },
    {
      "cell_type": "markdown",
      "source": [
        "### **`Problem 4:`** Write a Python program to print the even numbers from a given list.\n",
        "```\n",
        "Sample List : [1, 2, 3, 4, 5, 6, 7, 8, 9]\n",
        "Expected Result : [2, 4, 6, 8]\n",
        "```"
      ],
      "metadata": {
        "id": "CA-Wy_ZDM5uz"
      }
    },
    {
      "cell_type": "code",
      "source": [
        "def print_even_numbers(lst):\n",
        "  even_numbers=[num for num in lst if num%2==0]\n",
        "  print(even_numbers)\n",
        "lst = [1, 2, 3, 4, 5, 6, 7, 8, 9]\n",
        "print_even_numbers(lst)"
      ],
      "metadata": {
        "colab": {
          "base_uri": "https://localhost:8080/"
        },
        "id": "DT5RlRiINVhL",
        "outputId": "c4cf2019-fd67-4b14-c69f-b731fe2442fe"
      },
      "execution_count": null,
      "outputs": [
        {
          "output_type": "stream",
          "name": "stdout",
          "text": [
            "[2, 4, 6, 8]\n"
          ]
        }
      ]
    },
    {
      "cell_type": "markdown",
      "source": [
        "### **`Problem 5:`** Write a Python function to check whether a number is perfect or not.\n",
        "\n",
        "A Perfect number is a number that is half the sum of all of its positive divisors (including itself).\n",
        "\n",
        "Example :\n",
        "\n",
        "```\n",
        "The first perfect number is 6, because 1, 2, and 3 are its proper positive divisors, and 1 + 2 + 3 = 6.\n",
        "Equivalently, the number 6 is equal to half the sum of all its positive divisors: ( 1 + 2 + 3 + 6 ) / 2 = 6.\n",
        "\n",
        "The next perfect number is 28 = 1 + 2 + 4 + 7 + 14. This is followed by the perfect numbers 496 and 8128.\n",
        "```"
      ],
      "metadata": {
        "id": "Tjg9VKiIORWm"
      }
    },
    {
      "cell_type": "code",
      "source": [
        "def is_perfect_number(num):\n",
        "  divisors=[]\n",
        "  for i in range(1,num):\n",
        "    if num%i==0:\n",
        "      divisors.append(i)\n",
        "  if sum(divisors)==num:\n",
        "    return True\n",
        "  else:\n",
        "    return False\n",
        "num=28\n",
        "result=is_perfect_number(num)\n",
        "print(result)"
      ],
      "metadata": {
        "colab": {
          "base_uri": "https://localhost:8080/"
        },
        "id": "t4sVz_5AOwHT",
        "outputId": "88054cb0-55cf-4a8a-b4c6-70259b260ecb"
      },
      "execution_count": null,
      "outputs": [
        {
          "output_type": "stream",
          "name": "stdout",
          "text": [
            "True\n"
          ]
        }
      ]
    },
    {
      "cell_type": "markdown",
      "source": [
        "### **`Problem-6:`** Write a Python function to concatenate any no of dictionaries to create a new one.\n",
        "\n",
        "```\n",
        "Sample Dictionary :\n",
        "dic1={1:10, 2:20}\n",
        "dic2={3:30, 4:40}\n",
        "dic3={5:50,6:60}\n",
        "Expected Result : {1: 10, 2: 20, 3: 30, 4: 40, 5: 50, 6: 60}\n",
        "```"
      ],
      "metadata": {
        "id": "-a7XsAeRQ2g0"
      }
    },
    {
      "cell_type": "code",
      "source": [
        "def concatenate_dictionaries(*dicts):\n",
        "  result={}\n",
        "  for dictionary in dicts:\n",
        "    result.update(dictionary)\n",
        "  return result\n",
        "dic1 = {1: 10, 2: 20}\n",
        "dic2 = {3: 30, 4: 40}\n",
        "dic3 = {5: 50, 6: 60}\n",
        "result = concatenate_dictionaries(dic1, dic2, dic3)\n",
        "print(result)\n"
      ],
      "metadata": {
        "colab": {
          "base_uri": "https://localhost:8080/"
        },
        "id": "joSM29-RRISw",
        "outputId": "631160e7-c3b4-4fdd-d67a-82dc118adb0c"
      },
      "execution_count": null,
      "outputs": [
        {
          "output_type": "stream",
          "name": "stdout",
          "text": [
            "{1: 10, 2: 20, 3: 30, 4: 40, 5: 50, 6: 60}\n"
          ]
        }
      ]
    },
    {
      "cell_type": "markdown",
      "source": [
        "`Problem-7` Write a python function that accepts a string as input and returns the word with most occurence.\n",
        "\n",
        "```\n",
        "Input:\n",
        "hello how are you i am fine thank you\n",
        "```\n",
        "\n",
        "```\n",
        "Output\n",
        "you -> 2\n",
        "```"
      ],
      "metadata": {
        "id": "c1OeFTKbSbmv"
      }
    },
    {
      "cell_type": "code",
      "source": [
        "def find_most_common_word(input_string):\n",
        "  word_count={}\n",
        "  words=input_string.split()\n",
        "  for word in words:\n",
        "    if word in word_count:\n",
        "      word_count[word]+=1\n",
        "    else:\n",
        "      word_count[word]=1\n",
        "  max_count=0\n",
        "  most_common_word=None\n",
        "  for word,count in word_count.items():\n",
        "    if count>max_count:\n",
        "      max_count=count\n",
        "      most_common_word=word\n",
        "  return most_common_word + \"->\" +str(max_count)\n",
        "input_string = \"hello how are you i am fine thank you\"\n",
        "result = find_most_common_word(input_string)\n",
        "print(result)\n"
      ],
      "metadata": {
        "colab": {
          "base_uri": "https://localhost:8080/"
        },
        "id": "HcPP16nVTFFX",
        "outputId": "0c075dee-dafa-477d-924a-da06c015ffaa"
      },
      "execution_count": null,
      "outputs": [
        {
          "output_type": "stream",
          "name": "stdout",
          "text": [
            "you->2\n"
          ]
        }
      ]
    },
    {
      "cell_type": "markdown",
      "source": [
        "`Problem-8` Write a python function that receives a list of integers and prints out a histogram of bin size 10\n",
        "\n",
        "```\n",
        "Input:\n",
        "[13,42,15,37,22,39,41,50]\n",
        "```\n",
        "\n",
        "```\n",
        "Output:\n",
        "{11-20:2,21-30:1,31-40:2,41-50:3}\n",
        "```"
      ],
      "metadata": {
        "id": "f1Mqogs6X2HZ"
      }
    },
    {
      "cell_type": "code",
      "source": [
        "# Write code here\n",
        "import math\n",
        "\n",
        "def histogram(L):\n",
        "\n",
        "  min_bin = math.floor(min(L)/10)*10\n",
        "  max_bin = math.ceil(max(L)/10)*10\n",
        "\n",
        "  d={}\n",
        "\n",
        "  for i in range(min_bin,max_bin,10):\n",
        "    count = 0\n",
        "    for j in L:\n",
        "      if i+1<=j<=i+10:\n",
        "        count+=1\n",
        "\n",
        "    d[str(i+1) + '-' + str(i+10)] = count\n",
        "\n",
        "  return d\n",
        "\n",
        "histogram([13,42,15,37,22,39,41,50])"
      ],
      "metadata": {
        "colab": {
          "base_uri": "https://localhost:8080/"
        },
        "id": "bzaqPzi6Xhkj",
        "outputId": "7db2f76b-0835-4590-ebf3-0e595d7de03a"
      },
      "execution_count": null,
      "outputs": [
        {
          "output_type": "execute_result",
          "data": {
            "text/plain": [
              "{'11-20': 2, '21-30': 1, '31-40': 2, '41-50': 3}"
            ]
          },
          "metadata": {},
          "execution_count": 24
        }
      ]
    },
    {
      "cell_type": "markdown",
      "source": [
        "`Problem-9` Write a python function that accepts a list of 2D co-ordinates and a query point, and then finds the the co-ordinate which is closest in terms of distance from the query point.\n",
        "\n",
        "```\n",
        "List of Coordinates\n",
        "[(1,1),(2,2),(3,3),(4,4)]\n",
        "Query Point\n",
        "(0,0)\n",
        "```\n",
        "\n",
        "```\n",
        "Output\n",
        "Nearest to (0,0) is (1,1)\n",
        "```"
      ],
      "metadata": {
        "id": "gShYINN1KUvI"
      }
    },
    {
      "cell_type": "code",
      "source": [
        "import math\n",
        "def find_nearest_coordinate(coordinates,query_point):\n",
        "  closest_coordinate=None\n",
        "  min_distance=float('inf')\n",
        "  for coordinate in coordinates:\n",
        "    distance=math.sqrt((coordinate[0]-query_point[0])**2+(coordinate[1]-query_point[1])**2)\n",
        "    if distance<min_distance:\n",
        "      min_distance=distance\n",
        "      closest_coordinate=coordinate\n",
        "  return closest_coordinate\n",
        "coordinates = [(1, 1), (2, 2), (3, 3), (4, 4)]\n",
        "query_point = (0, 0)\n",
        "nearest_coordinate = find_nearest_coordinate(coordinates, query_point)\n",
        "print(\"Nearest to\", query_point, \"is\", nearest_coordinate)"
      ],
      "metadata": {
        "colab": {
          "base_uri": "https://localhost:8080/"
        },
        "id": "XlV9CAi8K0gL",
        "outputId": "2075b6bd-1193-455b-ec75-a502049053d0"
      },
      "execution_count": 2,
      "outputs": [
        {
          "output_type": "stream",
          "name": "stdout",
          "text": [
            "Nearest to (0, 0) is (1, 1)\n"
          ]
        }
      ]
    },
    {
      "cell_type": "markdown",
      "source": [
        "`Problem-10`:Write a python program that receives a list of strings and performs bag of word operation on those strings\n",
        "\n",
        "https://en.wikipedia.org/wiki/Bag-of-words_model"
      ],
      "metadata": {
        "id": "LLEGIMqjNrZk"
      }
    },
    {
      "cell_type": "code",
      "source": [
        "def bow(L):\n",
        "  vocab=set()\n",
        "  for i in L:\n",
        "    vocab.update(i.split())\n",
        "  result=[]\n",
        "  for i in L:\n",
        "    result.append([])\n",
        "    for j in vocab:\n",
        "      result[-1].append(i.count(j))\n",
        "  print(vocab)\n",
        "  return result\n",
        "\n",
        "L = [\n",
        "    'cat mat rat cat',\n",
        "     'sat bat fat cat rat',\n",
        "     'pat cat mat rat'\n",
        "]\n",
        "\n",
        "bow(L)\n",
        ""
      ],
      "metadata": {
        "colab": {
          "base_uri": "https://localhost:8080/"
        },
        "id": "Bg3VUp9caxhT",
        "outputId": "d36b90a1-e661-4d72-a293-dd4ac1234375"
      },
      "execution_count": 36,
      "outputs": [
        {
          "output_type": "stream",
          "name": "stdout",
          "text": [
            "{'bat', 'sat', 'fat', 'pat', 'mat', 'rat', 'cat'}\n"
          ]
        },
        {
          "output_type": "execute_result",
          "data": {
            "text/plain": [
              "[[0, 0, 0, 0, 1, 1, 2], [1, 1, 1, 0, 0, 1, 1], [0, 0, 0, 1, 1, 1, 1]]"
            ]
          },
          "metadata": {},
          "execution_count": 36
        }
      ]
    },
    {
      "cell_type": "markdown",
      "source": [
        "###`Problem 11:` Write a Python program to add three given lists using Python map and lambda."
      ],
      "metadata": {
        "id": "oZr0g0_4P9-1"
      }
    },
    {
      "cell_type": "code",
      "source": [
        "L1 = [1,2,3]\n",
        "L2 = [4,5,6]\n",
        "L3 = [7,8,9]\n"
      ],
      "metadata": {
        "id": "k1ifg12gQAWO"
      },
      "execution_count": 9,
      "outputs": []
    },
    {
      "cell_type": "code",
      "source": [
        "list(map(lambda x,y,z:x+y+z,L1,L2,L3))"
      ],
      "metadata": {
        "colab": {
          "base_uri": "https://localhost:8080/"
        },
        "id": "BxNeK9PpQiw9",
        "outputId": "1482527f-e117-4abd-d104-11f17c2e4a97"
      },
      "execution_count": 10,
      "outputs": [
        {
          "output_type": "execute_result",
          "data": {
            "text/plain": [
              "[12, 15, 18]"
            ]
          },
          "metadata": {},
          "execution_count": 10
        }
      ]
    },
    {
      "cell_type": "markdown",
      "source": [
        "###`Problem-12:`Write a Python program to create a list containing the power of said number in bases raised to the corresponding number in the index using Python map.\n",
        "`Input:`\n",
        "```\n",
        "list1 = [1,2,3,4,5,6]\n",
        "```\n",
        "`Output:`\n",
        "```\n",
        "[1,2,9,64,625,-]\n",
        "```"
      ],
      "metadata": {
        "id": "P_VEBRICRUtl"
      }
    },
    {
      "cell_type": "code",
      "source": [
        "list1=[1,2,3,4,5,6]\n",
        "power_func=lambda base,exponent:base**exponent\n",
        "result=list(map(power_func,list1,range(len(list1))))\n",
        "print(result)"
      ],
      "metadata": {
        "colab": {
          "base_uri": "https://localhost:8080/"
        },
        "id": "YgrDn5cMRoAu",
        "outputId": "059b3f16-485b-4eaf-a1ed-5253386ad8c3"
      },
      "execution_count": 13,
      "outputs": [
        {
          "output_type": "stream",
          "name": "stdout",
          "text": [
            "[1, 2, 9, 64, 625, 7776]\n"
          ]
        }
      ]
    },
    {
      "cell_type": "markdown",
      "source": [
        "###`Problem-13` Using filter() and list() functions and .lower() method filter all the vowels in a given string."
      ],
      "metadata": {
        "id": "C15BeHudT3Gf"
      }
    },
    {
      "cell_type": "code",
      "source": [
        "str1=\"FIFA world cup in 2022 will take place in Qatar\"\n",
        "\n"
      ],
      "metadata": {
        "id": "zQ7Ss5GETgpX"
      },
      "execution_count": 16,
      "outputs": []
    },
    {
      "cell_type": "code",
      "source": [
        "list(filter(lambda x:True if x.lower() in 'aeiou' else False,str1))"
      ],
      "metadata": {
        "colab": {
          "base_uri": "https://localhost:8080/"
        },
        "id": "eFOwnjRIUN7t",
        "outputId": "1e5fb419-365b-4187-9951-89be53c5f5f1"
      },
      "execution_count": 17,
      "outputs": [
        {
          "output_type": "execute_result",
          "data": {
            "text/plain": [
              "['I', 'A', 'o', 'u', 'i', 'i', 'a', 'e', 'a', 'e', 'i', 'a', 'a']"
            ]
          },
          "metadata": {},
          "execution_count": 17
        }
      ]
    },
    {
      "cell_type": "markdown",
      "source": [
        "`Problem-14`: Use reduce to convert a 2D list to 1D"
      ],
      "metadata": {
        "id": "6399Wk1GVQLZ"
      }
    },
    {
      "cell_type": "code",
      "source": [
        "ini_list = [[1, 2, 3],\n",
        "            [3, 6, 7],\n",
        "            [7, 5, 4]]\n"
      ],
      "metadata": {
        "id": "SenCuzWRUxkf"
      },
      "execution_count": 21,
      "outputs": []
    },
    {
      "cell_type": "code",
      "source": [
        "import functools\n",
        "functools.reduce(lambda x,y:x+y,ini_list)"
      ],
      "metadata": {
        "colab": {
          "base_uri": "https://localhost:8080/"
        },
        "id": "NT-KdxKOVkNP",
        "outputId": "c6d0cad0-37ff-4c50-c79d-fed9aba5cbbf"
      },
      "execution_count": 22,
      "outputs": [
        {
          "output_type": "execute_result",
          "data": {
            "text/plain": [
              "[1, 2, 3, 3, 6, 7, 7, 5, 4]"
            ]
          },
          "metadata": {},
          "execution_count": 22
        }
      ]
    },
    {
      "cell_type": "markdown",
      "source": [
        "`Problem 15`- A dictionary contains following information about 5 employees:\n",
        "- First name\n",
        "- Last name\n",
        "- Age\n",
        "- Grade(Skilled,Semi-skilled,Highly skilled)<br>\n",
        "Write a program using map/filter/reduce to a list of employees(first name + last name) who are highly skilled"
      ],
      "metadata": {
        "id": "Y8F3Z-zCWb2J"
      }
    },
    {
      "cell_type": "code",
      "source": [
        "# Write code here\n",
        "employees = [\n",
        "    {\n",
        "        'fname':'Nitish',\n",
        "        'lname':'Singh',\n",
        "        'age' : 33,\n",
        "        'grade':'skilled'\n",
        "    },\n",
        "    {\n",
        "        'fname':'Ankit',\n",
        "        'lname':'Verma',\n",
        "        'age' : 34,\n",
        "        'grade':'semi-skilled'\n",
        "    },\n",
        "    {\n",
        "        'fname':'Neha',\n",
        "        'lname':'Singh',\n",
        "        'age' : 35,\n",
        "        'grade':'highly-skilled'\n",
        "    },\n",
        "    {\n",
        "        'fname':'Anurag',\n",
        "        'lname':'Kumar',\n",
        "        'age' : 30,\n",
        "        'grade':'skilled'\n",
        "    },\n",
        "    {\n",
        "        'fname':'Abhinav',\n",
        "        'lname':'Sharma',\n",
        "        'age' : 37,\n",
        "        'grade':'highly-skilled'\n",
        "    }\n",
        "\n",
        "]"
      ],
      "metadata": {
        "id": "nJu_NKRrV2v1"
      },
      "execution_count": 27,
      "outputs": []
    },
    {
      "cell_type": "code",
      "source": [
        "list(map(lambda x:x['fname'] + ' ' + x['lname'],list(filter(lambda x:True if x['grade'] == 'highly-skilled' else False,employees))))"
      ],
      "metadata": {
        "colab": {
          "base_uri": "https://localhost:8080/"
        },
        "id": "-OKZPv2MW1AI",
        "outputId": "93c57049-add0-4ca7-da9e-5e2e6ae77a12"
      },
      "execution_count": 33,
      "outputs": [
        {
          "output_type": "execute_result",
          "data": {
            "text/plain": [
              "['Neha Singh', 'Abhinav Sharma']"
            ]
          },
          "metadata": {},
          "execution_count": 33
        }
      ]
    }
  ]
}